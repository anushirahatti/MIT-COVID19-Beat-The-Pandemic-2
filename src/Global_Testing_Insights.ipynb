{
  "nbformat": 4,
  "nbformat_minor": 0,
  "metadata": {
    "colab": {
      "name": "Global_Testing Insights",
      "provenance": [],
      "authorship_tag": "ABX9TyP93nWCJUMtHixdyugUAUja",
      "include_colab_link": true
    },
    "kernelspec": {
      "name": "python3",
      "display_name": "Python 3"
    }
  },
  "cells": [
    {
      "cell_type": "markdown",
      "metadata": {
        "id": "view-in-github",
        "colab_type": "text"
      },
      "source": [
        "<a href=\"https://colab.research.google.com/github/anushirahatti/MIT-COVID19-Beat-The-Pandemic-2/blob/master/src/Global_Testing_Insights.ipynb\" target=\"_parent\"><img src=\"https://colab.research.google.com/assets/colab-badge.svg\" alt=\"Open In Colab\"/></a>"
      ]
    },
    {
      "cell_type": "markdown",
      "metadata": {
        "id": "S3A8OEdfXG0l",
        "colab_type": "text"
      },
      "source": [
        "# Ingest"
      ]
    },
    {
      "cell_type": "code",
      "metadata": {
        "id": "kXgLEw2VXLfc",
        "colab_type": "code",
        "colab": {
          "base_uri": "https://localhost:8080/",
          "height": 71
        },
        "outputId": "aab89636-a425-4721-e79b-98818c044ac5"
      },
      "source": [
        "import pandas as pd\n",
        "import numpy as np\n",
        "import seaborn as sns\n",
        "import matplotlib.pyplot as plt"
      ],
      "execution_count": 1,
      "outputs": [
        {
          "output_type": "stream",
          "text": [
            "/usr/local/lib/python3.6/dist-packages/statsmodels/tools/_testing.py:19: FutureWarning: pandas.util.testing is deprecated. Use the functions in the public API at pandas.testing instead.\n",
            "  import pandas.util.testing as tm\n"
          ],
          "name": "stderr"
        }
      ]
    },
    {
      "cell_type": "code",
      "metadata": {
        "id": "0FbWD4o2X3O-",
        "colab_type": "code",
        "colab": {}
      },
      "source": [
        "covid_testing_data = pd.read_csv(\"https://raw.githubusercontent.com/anushirahatti/MIT-COVID19-Beat-The-Pandemic-2/master/data/COV-diag-performance-data.csv?token=ABTRBC55RM4GR5WZFYAEKB262PP3I\")"
      ],
      "execution_count": 0,
      "outputs": []
    },
    {
      "cell_type": "markdown",
      "metadata": {
        "id": "uHXPRV0cXTu-",
        "colab_type": "text"
      },
      "source": [
        "# EDA"
      ]
    },
    {
      "cell_type": "code",
      "metadata": {
        "id": "HKdNKwWeJlt2",
        "colab_type": "code",
        "colab": {
          "base_uri": "https://localhost:8080/",
          "height": 391
        },
        "outputId": "52e5f45b-08c7-4ec0-ac3a-f180250236e5"
      },
      "source": [
        "covid_testing_data['Country'].value_counts()"
      ],
      "execution_count": 3,
      "outputs": [
        {
          "output_type": "execute_result",
          "data": {
            "text/plain": [
              "China                             162\n",
              "United States of America (USA)    152\n",
              "Netherlands                        92\n",
              "France                             62\n",
              "Australia                          36\n",
              "Belgium                            19\n",
              "Great Britain                      13\n",
              "Spain                              13\n",
              "Japan                              12\n",
              "Germany                            10\n",
              "Italy                              10\n",
              "Finland                             8\n",
              "Chile                               7\n",
              "South Africa                        7\n",
              "Denmark                             7\n",
              "Peru                                3\n",
              "Hungary                             2\n",
              "Sweden                              2\n",
              "Canada                              1\n",
              "Switzerland                         1\n",
              "Lithuania                           1\n",
              "Name: Country, dtype: int64"
            ]
          },
          "metadata": {
            "tags": []
          },
          "execution_count": 3
        }
      ]
    },
    {
      "cell_type": "markdown",
      "metadata": {
        "id": "SLPh4enTJUrC",
        "colab_type": "text"
      },
      "source": [
        "*China data for comparison*"
      ]
    },
    {
      "cell_type": "code",
      "metadata": {
        "id": "Vm2X2RIQJSaC",
        "colab_type": "code",
        "colab": {}
      },
      "source": [
        "diagnostic_data_china = covid_testing_data[covid_testing_data['Country'] == 'China']"
      ],
      "execution_count": 0,
      "outputs": []
    },
    {
      "cell_type": "markdown",
      "metadata": {
        "id": "8DFJFN5VHSnm",
        "colab_type": "text"
      },
      "source": [
        "*Focusing on United States*"
      ]
    },
    {
      "cell_type": "code",
      "metadata": {
        "id": "lyymgeHsHTHc",
        "colab_type": "code",
        "colab": {}
      },
      "source": [
        "diagnostic_data = covid_testing_data[covid_testing_data['Country'] == 'United States of America (USA)']"
      ],
      "execution_count": 0,
      "outputs": []
    },
    {
      "cell_type": "code",
      "metadata": {
        "id": "4l7nY3vtgfSp",
        "colab_type": "code",
        "colab": {
          "base_uri": "https://localhost:8080/",
          "height": 34
        },
        "outputId": "a5e97713-26eb-428d-ab0b-20cfc1135cc4"
      },
      "source": [
        "diagnostic_data.shape"
      ],
      "execution_count": 6,
      "outputs": [
        {
          "output_type": "execute_result",
          "data": {
            "text/plain": [
              "(152, 37)"
            ]
          },
          "metadata": {
            "tags": []
          },
          "execution_count": 6
        }
      ]
    },
    {
      "cell_type": "code",
      "metadata": {
        "id": "dpMDi0jAXXFW",
        "colab_type": "code",
        "colab": {
          "base_uri": "https://localhost:8080/",
          "height": 765
        },
        "outputId": "1807e1fe-ed58-4afa-e614-69b903fba21c"
      },
      "source": [
        "diagnostic_data.info()"
      ],
      "execution_count": 7,
      "outputs": [
        {
          "output_type": "stream",
          "text": [
            "<class 'pandas.core.frame.DataFrame'>\n",
            "Int64Index: 152 entries, 42 to 583\n",
            "Data columns (total 37 columns):\n",
            " #   Column                      Non-Null Count  Dtype \n",
            "---  ------                      --------------  ----- \n",
            " 0   Laboratory                  152 non-null    object\n",
            " 1   Facility                    152 non-null    object\n",
            " 2   Country                     152 non-null    object\n",
            " 3   City                        152 non-null    object\n",
            " 4   Sample Population           152 non-null    object\n",
            " 5   Sample Sub-Population       152 non-null    object\n",
            " 6   Reference Sample Type       152 non-null    object\n",
            " 7   Sample Set                  152 non-null    object\n",
            " 8   Reference Method            152 non-null    object\n",
            " 9   Repeats                     152 non-null    object\n",
            " 10  Blinding                    152 non-null    object\n",
            " 11  Test Type                   152 non-null    object\n",
            " 12  Test Format                 152 non-null    object\n",
            " 13  Use Case                    152 non-null    object\n",
            " 14  Test Name                   152 non-null    object\n",
            " 15  Manufacturer                152 non-null    object\n",
            " 16  Catalog Number              152 non-null    object\n",
            " 17  Lot Number                  152 non-null    object\n",
            " 18  Index Sample Type           152 non-null    object\n",
            " 19  Target                      152 non-null    object\n",
            " 20  Antigen Used for Detection  152 non-null    object\n",
            " 21  RNA Extraction Kit          152 non-null    object\n",
            " 22  Estimated LoD               152 non-null    object\n",
            " 23  LoD Unit                    152 non-null    object\n",
            " 24  Higher Cut-off              152 non-null    object\n",
            " 25  Lower Cut-off               152 non-null    object\n",
            " 26  Ct Value                    152 non-null    object\n",
            " 27  Days of Sickness            152 non-null    object\n",
            " 28  Total Positive              152 non-null    object\n",
            " 29  Total Negative              152 non-null    object\n",
            " 30  True Positive               152 non-null    object\n",
            " 31  True Negative               152 non-null    object\n",
            " 32  Sensitivity                 152 non-null    object\n",
            " 33  Specificity                 152 non-null    object\n",
            " 34  Link to Publication         152 non-null    object\n",
            " 35  DOI                         152 non-null    object\n",
            " 36  Comments                    152 non-null    object\n",
            "dtypes: object(37)\n",
            "memory usage: 45.1+ KB\n"
          ],
          "name": "stdout"
        }
      ]
    },
    {
      "cell_type": "markdown",
      "metadata": {
        "id": "NnMkX7z1gr61",
        "colab_type": "text"
      },
      "source": [
        "*Understanding features*"
      ]
    },
    {
      "cell_type": "code",
      "metadata": {
        "id": "k2r8iu70PLj6",
        "colab_type": "code",
        "colab": {
          "base_uri": "https://localhost:8080/",
          "height": 207
        },
        "outputId": "ca756996-4240-4ff4-c43f-9a76f186f189"
      },
      "source": [
        "diagnostic_data['Laboratory'].value_counts()"
      ],
      "execution_count": 8,
      "outputs": [
        {
          "output_type": "execute_result",
          "data": {
            "text/plain": [
              "University of California                                                                                                                                                                                                                          124\n",
              "Barnes Jewish Hospital Laboratory                                                                                                                                                                                                                   8\n",
              "University of Washington Medical Center laboratories                                                                                                                                                                                                8\n",
              "Department of Laboratory Medicine, University of Washington School of Medicine                                                                                                                                                                      4\n",
              "Northwell Health Laboratories                                                                                                                                                                                                                       3\n",
              "Emory University Nell Hodgson Woodruff School of Nursing                                                                                                                                                                                            2\n",
              "UCSD                                                                                                                                                                                                                                                1\n",
              "Mammoth Biosciences, Inc., San Francisco, California, USA And Department of Laboratory Medicine, University of California, San Francisco, California, USA                                                                                           1\n",
              "Johns Hopkins University; LAC+USC Medical Center, University of Southern California; Manchester University NHS Foundation Trust; Mondor Hospital; New York City Dept. Health and Mental Hygiene; Niguarda Hospital; Newark University Hospital      1\n",
              "Name: Laboratory, dtype: int64"
            ]
          },
          "metadata": {
            "tags": []
          },
          "execution_count": 8
        }
      ]
    },
    {
      "cell_type": "code",
      "metadata": {
        "id": "0VSP4JAlPTlq",
        "colab_type": "code",
        "colab": {
          "base_uri": "https://localhost:8080/",
          "height": 357
        },
        "outputId": "d3916b56-506f-4089-dd87-95d0aef2ee73"
      },
      "source": [
        "diagnostic_data_china['Laboratory'].value_counts()"
      ],
      "execution_count": 9,
      "outputs": [
        {
          "output_type": "execute_result",
          "data": {
            "text/plain": [
              "General Hospital of the Central Theater Command of the People?s Liberation Army (PLA)       24\n",
              "The Key Laboratory of Clinical In Vitro Diagnostic Techniques of Zhejiang Province          17\n",
              "Second People's Hospital of Fuyang                                                          16\n",
              "General Hospital of Central Theater Command of PLA                                          16\n",
              "Renmin Hospital of Wuhan University                                                         15\n",
              "Shenzhen Third People?s Hospital                                                            12\n",
              "Department of Infectious Diseases, Southwest Hospital, Third Military Medical University    12\n",
              "Zhongnan Hospital of Wuhan University                                                        9\n",
              "Xixi Hospital of Hangzhou                                                                    8\n",
              "Wuhan Jinyintan Hospital                                                                     7\n",
              "Department of Laboratory Medicine, General Hospital of Southern Theatre Command of PLA       5\n",
              "Guangdong Provincial Key Laboratory of Regional Immunity and Disease                         4\n",
              "Taizhou Hospital, Wenzhou Medical University                                                 4\n",
              "Tongji Medical College, Huazhong University of Science and Technology                        4\n",
              "First Affiliated Hospital of Guangzhou Medical University                                    3\n",
              "The First Affiliated Hospital of University of Science and Technology of China               2\n",
              "Department of Laboratory Medicine, Shengjing Hospital of China Medical University            2\n",
              "Southwest Hospital                                                                           1\n",
              "Nantong Third Hospital Affiliated to Nantong University, Clinical Laboratory                 1\n",
              "Name: Laboratory, dtype: int64"
            ]
          },
          "metadata": {
            "tags": []
          },
          "execution_count": 9
        }
      ]
    },
    {
      "cell_type": "code",
      "metadata": {
        "id": "r2omKEmhgnmZ",
        "colab_type": "code",
        "colab": {
          "base_uri": "https://localhost:8080/",
          "height": 34
        },
        "outputId": "a3068280-c8d2-4a02-b1aa-c984042a694f"
      },
      "source": [
        "diagnostic_data['Laboratory'].unique().shape"
      ],
      "execution_count": 10,
      "outputs": [
        {
          "output_type": "execute_result",
          "data": {
            "text/plain": [
              "(9,)"
            ]
          },
          "metadata": {
            "tags": []
          },
          "execution_count": 10
        }
      ]
    },
    {
      "cell_type": "code",
      "metadata": {
        "id": "ZQ4SoidjKaJg",
        "colab_type": "code",
        "colab": {
          "base_uri": "https://localhost:8080/",
          "height": 34
        },
        "outputId": "24786f90-c960-48d3-af9f-d4c787ecde61"
      },
      "source": [
        "diagnostic_data_china['Laboratory'].unique().shape"
      ],
      "execution_count": 11,
      "outputs": [
        {
          "output_type": "execute_result",
          "data": {
            "text/plain": [
              "(19,)"
            ]
          },
          "metadata": {
            "tags": []
          },
          "execution_count": 11
        }
      ]
    },
    {
      "cell_type": "markdown",
      "metadata": {
        "id": "VBBuz2GNLIzU",
        "colab_type": "text"
      },
      "source": [
        "**Observation 1: China has many testing laboratories to serve large population.**\n",
        "<br/><br/> Will increasing the number of labs help USA perform COVID testing at large scale?"
      ]
    },
    {
      "cell_type": "code",
      "metadata": {
        "id": "BioTBWrVgdLE",
        "colab_type": "code",
        "colab": {
          "base_uri": "https://localhost:8080/",
          "height": 85
        },
        "outputId": "46f30cbf-cd43-4abb-a037-6d38feb0b9fb"
      },
      "source": [
        "diagnostic_data['Facility'].value_counts()"
      ],
      "execution_count": 12,
      "outputs": [
        {
          "output_type": "execute_result",
          "data": {
            "text/plain": [
              "Not available    136\n",
              "Hospital          11\n",
              "Public Health      5\n",
              "Name: Facility, dtype: int64"
            ]
          },
          "metadata": {
            "tags": []
          },
          "execution_count": 12
        }
      ]
    },
    {
      "cell_type": "code",
      "metadata": {
        "id": "cbSzkEEjMigg",
        "colab_type": "code",
        "colab": {
          "base_uri": "https://localhost:8080/",
          "height": 68
        },
        "outputId": "cedf74fa-4795-4ed0-955f-54a8b3f79a2a"
      },
      "source": [
        "diagnostic_data_china['Facility'].value_counts()"
      ],
      "execution_count": 13,
      "outputs": [
        {
          "output_type": "execute_result",
          "data": {
            "text/plain": [
              "Hospital         157\n",
              "Public Health      5\n",
              "Name: Facility, dtype: int64"
            ]
          },
          "metadata": {
            "tags": []
          },
          "execution_count": 13
        }
      ]
    },
    {
      "cell_type": "code",
      "metadata": {
        "id": "LV3FfuMzMzmQ",
        "colab_type": "code",
        "colab": {
          "base_uri": "https://localhost:8080/",
          "height": 102
        },
        "outputId": "f9810a6e-c81d-4867-af3a-65c9a1d2f29a"
      },
      "source": [
        "covid_testing_data['Facility'].value_counts()"
      ],
      "execution_count": 14,
      "outputs": [
        {
          "output_type": "execute_result",
          "data": {
            "text/plain": [
              "Hospital              346\n",
              "Not available         138\n",
              "Public Health         129\n",
              "Private Laboratory      7\n",
              "Name: Facility, dtype: int64"
            ]
          },
          "metadata": {
            "tags": []
          },
          "execution_count": 14
        }
      ]
    },
    {
      "cell_type": "code",
      "metadata": {
        "id": "lPj2F1pQM-Ul",
        "colab_type": "code",
        "colab": {
          "base_uri": "https://localhost:8080/",
          "height": 68
        },
        "outputId": "8e1ac3ee-453b-412a-8c23-21702f6bb874"
      },
      "source": [
        "facility_world = covid_testing_data[covid_testing_data['Facility'] == 'Private Laboratory']\n",
        "facility_world.Country.value_counts()"
      ],
      "execution_count": 15,
      "outputs": [
        {
          "output_type": "execute_result",
          "data": {
            "text/plain": [
              "France       6\n",
              "Lithuania    1\n",
              "Name: Country, dtype: int64"
            ]
          },
          "metadata": {
            "tags": []
          },
          "execution_count": 15
        }
      ]
    },
    {
      "cell_type": "markdown",
      "metadata": {
        "id": "45I09d3aOROW",
        "colab_type": "text"
      },
      "source": [
        "**Observation 2: Like France and Lithuania, diagnostic facilities are provided through Hospital, Public Health, and Private Laboratory in USA.**\n",
        "<br/><br/> Telehealth, telemedicine, and remote healthcare can represent a digital type of healthcare facility. Implementing these might help in providing COVID testing and treatment in remote areas. Greater access to testing facilities.\n",
        "<br/>Private Laboratory in USA:\n",
        "\n",
        "*   Northwell Health\n",
        "*   Nell Hodgson Woodruff School of Nursing belongs to Emory University\n",
        "*   Mammoth Biosciences\n",
        "*   Johns Hopkins University\n",
        "\n",
        "Reference: https://www.endcoronavirus.org/countries?utm_source=mailchimp&utm_medium=email&utm_campaign=weekly-update&utm_term=20200511&utm_source=EndCoronavirus.org+Newsletter&utm_campaign=efc143537f-&utm_medium=email&utm_term=0_37415d5d3c-efc143537f-367995670"
      ]
    },
    {
      "cell_type": "code",
      "metadata": {
        "id": "KF9lYf5UkuKk",
        "colab_type": "code",
        "colab": {
          "base_uri": "https://localhost:8080/",
          "height": 85
        },
        "outputId": "bdc4cf3e-4dd4-4026-bd65-bc4295006d94"
      },
      "source": [
        "diagnostic_data['Sample Population'].value_counts()"
      ],
      "execution_count": 16,
      "outputs": [
        {
          "output_type": "execute_result",
          "data": {
            "text/plain": [
              "Confirmed COVID-19 patients    147\n",
              "Symptomatic patients             4\n",
              "Recovered COVID-19 patients      1\n",
              "Name: Sample Population, dtype: int64"
            ]
          },
          "metadata": {
            "tags": []
          },
          "execution_count": 16
        }
      ]
    },
    {
      "cell_type": "code",
      "metadata": {
        "id": "yZdld9E_XFXg",
        "colab_type": "code",
        "colab": {
          "base_uri": "https://localhost:8080/",
          "height": 68
        },
        "outputId": "011e5b73-bd07-465a-eb91-86ac98ee727a"
      },
      "source": [
        "diagnostic_data_china['Sample Population'].value_counts()"
      ],
      "execution_count": 17,
      "outputs": [
        {
          "output_type": "execute_result",
          "data": {
            "text/plain": [
              "Confirmed COVID-19 patients    125\n",
              "Symptomatic patients            37\n",
              "Name: Sample Population, dtype: int64"
            ]
          },
          "metadata": {
            "tags": []
          },
          "execution_count": 17
        }
      ]
    },
    {
      "cell_type": "code",
      "metadata": {
        "id": "p5Y-cAi8XKkJ",
        "colab_type": "code",
        "colab": {
          "base_uri": "https://localhost:8080/",
          "height": 102
        },
        "outputId": "83bff05b-90d5-4551-af85-b84663760283"
      },
      "source": [
        "covid_testing_data['Sample Population'].value_counts()"
      ],
      "execution_count": 18,
      "outputs": [
        {
          "output_type": "execute_result",
          "data": {
            "text/plain": [
              "Confirmed COVID-19 patients    539\n",
              "Symptomatic patients            60\n",
              "Not available                   20\n",
              "Recovered COVID-19 patients      1\n",
              "Name: Sample Population, dtype: int64"
            ]
          },
          "metadata": {
            "tags": []
          },
          "execution_count": 18
        }
      ]
    },
    {
      "cell_type": "markdown",
      "metadata": {
        "id": "FOoAQQzWXex-",
        "colab_type": "text"
      },
      "source": [
        "**Observation 3: Need to understand more about (sample population = 'Recovered COVID-19 patients')**"
      ]
    },
    {
      "cell_type": "code",
      "metadata": {
        "id": "d-O4tX6Q_XuA",
        "colab_type": "code",
        "colab": {
          "base_uri": "https://localhost:8080/",
          "height": 85
        },
        "outputId": "0ff5b7f5-e152-40c2-eae5-5218d876e660"
      },
      "source": [
        "diagnostic_data['Sample Sub-Population'].value_counts()"
      ],
      "execution_count": 19,
      "outputs": [
        {
          "output_type": "execute_result",
          "data": {
            "text/plain": [
              "Not available             150\n",
              "Mild; Moderate; Severe      1\n",
              "Mild                        1\n",
              "Name: Sample Sub-Population, dtype: int64"
            ]
          },
          "metadata": {
            "tags": []
          },
          "execution_count": 19
        }
      ]
    },
    {
      "cell_type": "code",
      "metadata": {
        "id": "1Pt5NOu-YGbh",
        "colab_type": "code",
        "colab": {
          "base_uri": "https://localhost:8080/",
          "height": 335
        },
        "outputId": "e4e5d779-701a-46fc-d49f-3a63673a4d39"
      },
      "source": [
        "diagnostic_data[diagnostic_data['Sample Sub-Population'] != 'Not available']"
      ],
      "execution_count": 20,
      "outputs": [
        {
          "output_type": "execute_result",
          "data": {
            "text/html": [
              "<div>\n",
              "<style scoped>\n",
              "    .dataframe tbody tr th:only-of-type {\n",
              "        vertical-align: middle;\n",
              "    }\n",
              "\n",
              "    .dataframe tbody tr th {\n",
              "        vertical-align: top;\n",
              "    }\n",
              "\n",
              "    .dataframe thead th {\n",
              "        text-align: right;\n",
              "    }\n",
              "</style>\n",
              "<table border=\"1\" class=\"dataframe\">\n",
              "  <thead>\n",
              "    <tr style=\"text-align: right;\">\n",
              "      <th></th>\n",
              "      <th>Laboratory</th>\n",
              "      <th>Facility</th>\n",
              "      <th>Country</th>\n",
              "      <th>City</th>\n",
              "      <th>Sample Population</th>\n",
              "      <th>Sample Sub-Population</th>\n",
              "      <th>Reference Sample Type</th>\n",
              "      <th>Sample Set</th>\n",
              "      <th>Reference Method</th>\n",
              "      <th>Repeats</th>\n",
              "      <th>Blinding</th>\n",
              "      <th>Test Type</th>\n",
              "      <th>Test Format</th>\n",
              "      <th>Use Case</th>\n",
              "      <th>Test Name</th>\n",
              "      <th>Manufacturer</th>\n",
              "      <th>Catalog Number</th>\n",
              "      <th>Lot Number</th>\n",
              "      <th>Index Sample Type</th>\n",
              "      <th>Target</th>\n",
              "      <th>Antigen Used for Detection</th>\n",
              "      <th>RNA Extraction Kit</th>\n",
              "      <th>Estimated LoD</th>\n",
              "      <th>LoD Unit</th>\n",
              "      <th>Higher Cut-off</th>\n",
              "      <th>Lower Cut-off</th>\n",
              "      <th>Ct Value</th>\n",
              "      <th>Days of Sickness</th>\n",
              "      <th>Total Positive</th>\n",
              "      <th>Total Negative</th>\n",
              "      <th>True Positive</th>\n",
              "      <th>True Negative</th>\n",
              "      <th>Sensitivity</th>\n",
              "      <th>Specificity</th>\n",
              "      <th>Link to Publication</th>\n",
              "      <th>DOI</th>\n",
              "      <th>Comments</th>\n",
              "    </tr>\n",
              "  </thead>\n",
              "  <tbody>\n",
              "    <tr>\n",
              "      <th>489</th>\n",
              "      <td>Emory University Nell Hodgson Woodruff School ...</td>\n",
              "      <td>Hospital</td>\n",
              "      <td>United States of America (USA)</td>\n",
              "      <td>Atlanta</td>\n",
              "      <td>Confirmed COVID-19 patients</td>\n",
              "      <td>Mild; Moderate; Severe</td>\n",
              "      <td>Not available</td>\n",
              "      <td>Retrospective set</td>\n",
              "      <td>RT-PCR</td>\n",
              "      <td>Not available</td>\n",
              "      <td>Not available</td>\n",
              "      <td>Antibody</td>\n",
              "      <td>Enzyme-linked immunosorbent assay (ELISA)</td>\n",
              "      <td>Detection of current infection</td>\n",
              "      <td>IgG indirect ELISA assay</td>\n",
              "      <td>GenScript</td>\n",
              "      <td>Not available</td>\n",
              "      <td>Not available</td>\n",
              "      <td>Serum</td>\n",
              "      <td>IgG</td>\n",
              "      <td>Not available</td>\n",
              "      <td>Not available</td>\n",
              "      <td>Not available</td>\n",
              "      <td>Not available</td>\n",
              "      <td>Not available</td>\n",
              "      <td>Not available</td>\n",
              "      <td>Not available</td>\n",
              "      <td>Overall</td>\n",
              "      <td>18</td>\n",
              "      <td>78</td>\n",
              "      <td>Not available</td>\n",
              "      <td>Not available</td>\n",
              "      <td>88.9</td>\n",
              "      <td>92.3</td>\n",
              "      <td>https://www.medrxiv.org/content/10.1101/2020.0...</td>\n",
              "      <td>10.1101/2020.05.10.20097535</td>\n",
              "      <td>Cases:hospitalized and actively symptomatic Co...</td>\n",
              "    </tr>\n",
              "    <tr>\n",
              "      <th>555</th>\n",
              "      <td>Emory University Nell Hodgson Woodruff School ...</td>\n",
              "      <td>Hospital</td>\n",
              "      <td>United States of America (USA)</td>\n",
              "      <td>Atlanta</td>\n",
              "      <td>Recovered COVID-19 patients</td>\n",
              "      <td>Mild</td>\n",
              "      <td>Not available</td>\n",
              "      <td>Retrospective set</td>\n",
              "      <td>RT-PCR</td>\n",
              "      <td>Not available</td>\n",
              "      <td>Not available</td>\n",
              "      <td>Antibody</td>\n",
              "      <td>Enzyme-linked immunosorbent assay (ELISA)</td>\n",
              "      <td>Detection of past infection</td>\n",
              "      <td>IgG indirect ELISA assay</td>\n",
              "      <td>GenScript</td>\n",
              "      <td>Not available</td>\n",
              "      <td>Not available</td>\n",
              "      <td>Serum</td>\n",
              "      <td>IgG</td>\n",
              "      <td>Not available</td>\n",
              "      <td>Not available</td>\n",
              "      <td>Not available</td>\n",
              "      <td>Not available</td>\n",
              "      <td>Not available</td>\n",
              "      <td>Not available</td>\n",
              "      <td>Not available</td>\n",
              "      <td>Overall</td>\n",
              "      <td>14</td>\n",
              "      <td>78</td>\n",
              "      <td>4</td>\n",
              "      <td>Not available</td>\n",
              "      <td>28.6</td>\n",
              "      <td>92.3</td>\n",
              "      <td>https://www.medrxiv.org/content/10.1101/2020.0...</td>\n",
              "      <td>10.1101/2020.05.10.20097535</td>\n",
              "      <td>Cases:recovered mild cases Controls:pre-2020 h...</td>\n",
              "    </tr>\n",
              "  </tbody>\n",
              "</table>\n",
              "</div>"
            ],
            "text/plain": [
              "                                            Laboratory  ...                                           Comments\n",
              "489  Emory University Nell Hodgson Woodruff School ...  ...  Cases:hospitalized and actively symptomatic Co...\n",
              "555  Emory University Nell Hodgson Woodruff School ...  ...  Cases:recovered mild cases Controls:pre-2020 h...\n",
              "\n",
              "[2 rows x 37 columns]"
            ]
          },
          "metadata": {
            "tags": []
          },
          "execution_count": 20
        }
      ]
    },
    {
      "cell_type": "code",
      "metadata": {
        "id": "kBjFUytIYo3A",
        "colab_type": "code",
        "colab": {
          "base_uri": "https://localhost:8080/",
          "height": 187
        },
        "outputId": "fa03f574-aa95-448e-c030-b29906a33242"
      },
      "source": [
        "diagnostic_data_china['Sample Sub-Population'].value_counts()"
      ],
      "execution_count": 21,
      "outputs": [
        {
          "output_type": "execute_result",
          "data": {
            "text/plain": [
              "Not available                     96\n",
              "Mild; Severe; Critical            16\n",
              "Mild; Moderate; Severe            13\n",
              "Critical; Other; Not available    12\n",
              "Mild                              12\n",
              "Severe; Other                      6\n",
              "Moderate; Severe; Critical         3\n",
              "Moderate                           2\n",
              "Moderate; Severe                   2\n",
              "Name: Sample Sub-Population, dtype: int64"
            ]
          },
          "metadata": {
            "tags": []
          },
          "execution_count": 21
        }
      ]
    },
    {
      "cell_type": "markdown",
      "metadata": {
        "id": "nGD2o5t9Y8Jy",
        "colab_type": "text"
      },
      "source": [
        "***Observation 4: Majority of the records in column 'Sample Sub-Population' have value 'Not available'.***"
      ]
    },
    {
      "cell_type": "code",
      "metadata": {
        "id": "TEbQxBibmfJe",
        "colab_type": "code",
        "colab": {
          "base_uri": "https://localhost:8080/",
          "height": 136
        },
        "outputId": "3b321109-6ceb-4233-9df7-8f94abb4e009"
      },
      "source": [
        "diagnostic_data['Reference Sample Type'].value_counts()"
      ],
      "execution_count": 22,
      "outputs": [
        {
          "output_type": "execute_result",
          "data": {
            "text/plain": [
              "Nasopharyngeal swabs; Oropharyngeal swabs                                       125\n",
              "Nasopharyngeal swabs                                                             12\n",
              "Nasopharyngeal swabs; Oropharyngeal swabs; Other; Lower respiratory specimen      8\n",
              "Serum                                                                             4\n",
              "Not available                                                                     2\n",
              "Nasopharyngeal swabs; Oropharyngeal swabs; Tracheal aspirate                      1\n",
              "Name: Reference Sample Type, dtype: int64"
            ]
          },
          "metadata": {
            "tags": []
          },
          "execution_count": 22
        }
      ]
    },
    {
      "cell_type": "code",
      "metadata": {
        "id": "af3WZJKO2dLX",
        "colab_type": "code",
        "colab": {
          "base_uri": "https://localhost:8080/",
          "height": 187
        },
        "outputId": "590028ee-9456-42dc-fab7-00762f278a63"
      },
      "source": [
        "diagnostic_data_china['Reference Sample Type'].value_counts()"
      ],
      "execution_count": 23,
      "outputs": [
        {
          "output_type": "execute_result",
          "data": {
            "text/plain": [
              "Not available                                         55\n",
              "Nasopharyngeal swabs; Oropharyngeal swabs             29\n",
              "Nasopharyngeal swabs                                  27\n",
              "Respiratory specimen                                  23\n",
              "Pharyngeal swabs                                      17\n",
              "Oropharyngeal swabs; Sputum                            8\n",
              "Nasopharyngeal swabs; Serum                            1\n",
              "Nasopharyngeal swabs; Sputum; Respiratory specimen     1\n",
              "Nasopharyngeal swabs; Sputum                           1\n",
              "Name: Reference Sample Type, dtype: int64"
            ]
          },
          "metadata": {
            "tags": []
          },
          "execution_count": 23
        }
      ]
    },
    {
      "cell_type": "markdown",
      "metadata": {
        "id": "sqsvSygk3weh",
        "colab_type": "text"
      },
      "source": [
        "Reference Sample Type - Global"
      ]
    },
    {
      "cell_type": "code",
      "metadata": {
        "id": "fGg21duF3W3I",
        "colab_type": "code",
        "colab": {
          "base_uri": "https://localhost:8080/",
          "height": 459
        },
        "outputId": "ab608a67-c034-4aa9-8742-b3391a317adf"
      },
      "source": [
        "covid_testing_data['Reference Sample Type'].value_counts()"
      ],
      "execution_count": 24,
      "outputs": [
        {
          "output_type": "execute_result",
          "data": {
            "text/plain": [
              "Nasopharyngeal swabs; Oropharyngeal swabs                                       215\n",
              "Nasopharyngeal swabs                                                            109\n",
              "Not available                                                                    84\n",
              "Respiratory specimen                                                             74\n",
              "Serum                                                                            49\n",
              "Pharyngeal swabs                                                                 19\n",
              "Plasma                                                                           14\n",
              "Plasma; Serum; Whole blood                                                       12\n",
              "Oropharyngeal swabs; Sputum                                                       8\n",
              "Nasopharyngeal swabs; Oropharyngeal swabs; Other; Lower respiratory specimen      8\n",
              "Nasopharyngeal swabs; Other; Deep respiratory specimen                            7\n",
              "Not reported                                                                      4\n",
              "Universal transport medium with pharyngeal swab                                   3\n",
              "Universal transport medium with nasopharyngeal swab                               3\n",
              "Nasopharyngeal swabs; Sputum                                                      1\n",
              "Plasma; Serum                                                                     1\n",
              "Oropharyngeal swabs                                                               1\n",
              "Nasopharyngeal swabs; Sputum; Respiratory specimen                                1\n",
              "Nasopharyngeal swabs; Serum                                                       1\n",
              "Whole blood                                                                       1\n",
              "Nasopharyngeal swabs; Oropharyngeal swabs; Sputum                                 1\n",
              "Nasopharyngeal swabs; Other; Bronchial aspirate                                   1\n",
              "Nasopharyngeal swabs; Oropharyngeal swabs; Tracheal aspirate                      1\n",
              "Nasopharyngeal swabs; Oropharyngeal swabs; Respiratory specimen                   1\n",
              "Nasopharyngeal swabs; Tracheal aspirate                                           1\n",
              "Name: Reference Sample Type, dtype: int64"
            ]
          },
          "metadata": {
            "tags": []
          },
          "execution_count": 24
        }
      ]
    },
    {
      "cell_type": "code",
      "metadata": {
        "id": "HcLuzp7K33il",
        "colab_type": "code",
        "colab": {
          "base_uri": "https://localhost:8080/",
          "height": 51
        },
        "outputId": "9cd2c525-db76-4ccb-b326-2e5e4a841276"
      },
      "source": [
        "ref_sample_data = covid_testing_data[covid_testing_data['Reference Sample Type'] == 'Plasma; Serum; Whole blood']\n",
        "ref_sample_data['Country'].value_counts()"
      ],
      "execution_count": 25,
      "outputs": [
        {
          "output_type": "execute_result",
          "data": {
            "text/plain": [
              "Spain    12\n",
              "Name: Country, dtype: int64"
            ]
          },
          "metadata": {
            "tags": []
          },
          "execution_count": 25
        }
      ]
    },
    {
      "cell_type": "code",
      "metadata": {
        "id": "aTcFKFna5t5j",
        "colab_type": "code",
        "colab": {
          "base_uri": "https://localhost:8080/",
          "height": 51
        },
        "outputId": "6865c4a7-d62d-4255-9268-7f64e950c5fa"
      },
      "source": [
        "covid_testing_data[covid_testing_data['Reference Sample Type'] == 'Oropharyngeal swabs; Sputum']['Country'].value_counts()"
      ],
      "execution_count": 26,
      "outputs": [
        {
          "output_type": "execute_result",
          "data": {
            "text/plain": [
              "China    8\n",
              "Name: Country, dtype: int64"
            ]
          },
          "metadata": {
            "tags": []
          },
          "execution_count": 26
        }
      ]
    },
    {
      "cell_type": "code",
      "metadata": {
        "id": "7JFUejcw6NA7",
        "colab_type": "code",
        "colab": {
          "base_uri": "https://localhost:8080/",
          "height": 51
        },
        "outputId": "a3740c4b-a33d-4175-bdd3-9ea10489eff6"
      },
      "source": [
        "covid_testing_data[covid_testing_data['Reference Sample Type'] == 'Plasma']['Country'].value_counts()"
      ],
      "execution_count": 27,
      "outputs": [
        {
          "output_type": "execute_result",
          "data": {
            "text/plain": [
              "France    14\n",
              "Name: Country, dtype: int64"
            ]
          },
          "metadata": {
            "tags": []
          },
          "execution_count": 27
        }
      ]
    },
    {
      "cell_type": "markdown",
      "metadata": {
        "id": "l15I9pFA2O3H",
        "colab_type": "text"
      },
      "source": [
        "**Observation 5: Countries like China, Spain, France who have taken control over the Corona virus are collecting following 'Reference Sample Type' for testing:**\n",
        "\n",
        "*   **Plasma**\n",
        "*   **Whole blood**\n",
        "*   **Sputum**\n",
        "\n",
        "<br/> USA should consider collecting these reference sample types for testing in addition to existing sample types collection. This might help improve the accuracy of diagnostic tests being performed.\n",
        "\n",
        "<br/>Reference: https://labtestsonline.org/tests/coronavirus-covid-19-testing?gclid=EAIaIQobChMI5LLTlZPe6QIVWMDICh23QAJMEAAYASAAEgJRL_D_BwE"
      ]
    },
    {
      "cell_type": "code",
      "metadata": {
        "id": "rEfLU7VK_AVh",
        "colab_type": "code",
        "colab": {
          "base_uri": "https://localhost:8080/",
          "height": 85
        },
        "outputId": "25236b34-3602-4005-fc22-b0c30d8a8c20"
      },
      "source": [
        "diagnostic_data['Sample Set'].value_counts()"
      ],
      "execution_count": 28,
      "outputs": [
        {
          "output_type": "execute_result",
          "data": {
            "text/plain": [
              "Retrospective set              141\n",
              "Not available                    8\n",
              "Prospectively collected set      3\n",
              "Name: Sample Set, dtype: int64"
            ]
          },
          "metadata": {
            "tags": []
          },
          "execution_count": 28
        }
      ]
    },
    {
      "cell_type": "markdown",
      "metadata": {
        "id": "1p68RknDpVF6",
        "colab_type": "text"
      },
      "source": [
        "sample set  - global check"
      ]
    },
    {
      "cell_type": "code",
      "metadata": {
        "id": "BhNYZy8zpTJf",
        "colab_type": "code",
        "colab": {
          "base_uri": "https://localhost:8080/",
          "height": 85
        },
        "outputId": "9b49aac8-e94d-434b-c4b4-3a10e3792d2a"
      },
      "source": [
        "covid_testing_data['Sample Set'].value_counts()"
      ],
      "execution_count": 29,
      "outputs": [
        {
          "output_type": "execute_result",
          "data": {
            "text/plain": [
              "Retrospective set              364\n",
              "Prospectively collected set    163\n",
              "Not available                   93\n",
              "Name: Sample Set, dtype: int64"
            ]
          },
          "metadata": {
            "tags": []
          },
          "execution_count": 29
        }
      ]
    },
    {
      "cell_type": "markdown",
      "metadata": {
        "id": "t6BarUGypFii",
        "colab_type": "text"
      },
      "source": [
        "Winning countries"
      ]
    },
    {
      "cell_type": "code",
      "metadata": {
        "id": "q1YETZ84jUkx",
        "colab_type": "code",
        "colab": {
          "base_uri": "https://localhost:8080/",
          "height": 85
        },
        "outputId": "c7ac7d5f-bf10-4f37-abb7-618e55118741"
      },
      "source": [
        "diagnostic_data_china['Sample Set'].value_counts()"
      ],
      "execution_count": 30,
      "outputs": [
        {
          "output_type": "execute_result",
          "data": {
            "text/plain": [
              "Prospectively collected set    81\n",
              "Retrospective set              63\n",
              "Not available                  18\n",
              "Name: Sample Set, dtype: int64"
            ]
          },
          "metadata": {
            "tags": []
          },
          "execution_count": 30
        }
      ]
    },
    {
      "cell_type": "markdown",
      "metadata": {
        "id": "fon2XxIDqL63",
        "colab_type": "text"
      },
      "source": [
        "Countries that are nearly there"
      ]
    },
    {
      "cell_type": "code",
      "metadata": {
        "id": "56s-hO-3kcmg",
        "colab_type": "code",
        "colab": {
          "base_uri": "https://localhost:8080/",
          "height": 68
        },
        "outputId": "4b3b613a-6443-4b11-d82e-08b76c43c2c3"
      },
      "source": [
        "sampleSet_data = covid_testing_data[covid_testing_data['Country'] == 'Netherlands']\n",
        "sampleSet_data['Sample Set'].value_counts()"
      ],
      "execution_count": 31,
      "outputs": [
        {
          "output_type": "execute_result",
          "data": {
            "text/plain": [
              "Retrospective set              56\n",
              "Prospectively collected set    36\n",
              "Name: Sample Set, dtype: int64"
            ]
          },
          "metadata": {
            "tags": []
          },
          "execution_count": 31
        }
      ]
    },
    {
      "cell_type": "code",
      "metadata": {
        "id": "0PLQX0ySlH2I",
        "colab_type": "code",
        "colab": {
          "base_uri": "https://localhost:8080/",
          "height": 85
        },
        "outputId": "244c04d4-31c5-447c-da40-77cc396ea764"
      },
      "source": [
        "sampleSet_data = covid_testing_data[covid_testing_data['Country'] == 'France']\n",
        "sampleSet_data['Sample Set'].value_counts()"
      ],
      "execution_count": 32,
      "outputs": [
        {
          "output_type": "execute_result",
          "data": {
            "text/plain": [
              "Retrospective set              41\n",
              "Prospectively collected set    20\n",
              "Not available                   1\n",
              "Name: Sample Set, dtype: int64"
            ]
          },
          "metadata": {
            "tags": []
          },
          "execution_count": 32
        }
      ]
    },
    {
      "cell_type": "code",
      "metadata": {
        "id": "CintdXqklIUA",
        "colab_type": "code",
        "colab": {
          "base_uri": "https://localhost:8080/",
          "height": 51
        },
        "outputId": "1619b9ed-586f-4ae7-f7db-3e88f2c7539b"
      },
      "source": [
        "sampleSet_data = covid_testing_data[covid_testing_data['Country'] == 'Belgium']\n",
        "sampleSet_data['Sample Set'].value_counts()"
      ],
      "execution_count": 33,
      "outputs": [
        {
          "output_type": "execute_result",
          "data": {
            "text/plain": [
              "Retrospective set    19\n",
              "Name: Sample Set, dtype: int64"
            ]
          },
          "metadata": {
            "tags": []
          },
          "execution_count": 33
        }
      ]
    },
    {
      "cell_type": "code",
      "metadata": {
        "id": "9iKjnfg0l_1s",
        "colab_type": "code",
        "colab": {
          "base_uri": "https://localhost:8080/",
          "height": 51
        },
        "outputId": "5e992a94-fd9b-4deb-f096-b37ce6d71a69"
      },
      "source": [
        "sampleSet_data = covid_testing_data[covid_testing_data['Country'] == 'Japan']\n",
        "sampleSet_data['Sample Set'].value_counts()"
      ],
      "execution_count": 34,
      "outputs": [
        {
          "output_type": "execute_result",
          "data": {
            "text/plain": [
              "Retrospective set    12\n",
              "Name: Sample Set, dtype: int64"
            ]
          },
          "metadata": {
            "tags": []
          },
          "execution_count": 34
        }
      ]
    },
    {
      "cell_type": "code",
      "metadata": {
        "id": "wEVnMN7ul_9E",
        "colab_type": "code",
        "colab": {
          "base_uri": "https://localhost:8080/",
          "height": 68
        },
        "outputId": "91fe7479-08df-46cc-f7a2-16f7dabf9a72"
      },
      "source": [
        "sampleSet_data = covid_testing_data[covid_testing_data['Country'] == 'Italy']\n",
        "sampleSet_data['Sample Set'].value_counts()"
      ],
      "execution_count": 35,
      "outputs": [
        {
          "output_type": "execute_result",
          "data": {
            "text/plain": [
              "Prospectively collected set    6\n",
              "Retrospective set              4\n",
              "Name: Sample Set, dtype: int64"
            ]
          },
          "metadata": {
            "tags": []
          },
          "execution_count": 35
        }
      ]
    },
    {
      "cell_type": "code",
      "metadata": {
        "id": "3-ZIW94kmADd",
        "colab_type": "code",
        "colab": {
          "base_uri": "https://localhost:8080/",
          "height": 68
        },
        "outputId": "e7abc09f-09ef-4dd1-dd84-7721ce28a471"
      },
      "source": [
        "sampleSet_data = covid_testing_data[covid_testing_data['Country'] == 'Spain']\n",
        "sampleSet_data['Sample Set'].value_counts()"
      ],
      "execution_count": 36,
      "outputs": [
        {
          "output_type": "execute_result",
          "data": {
            "text/plain": [
              "Retrospective set              12\n",
              "Prospectively collected set     1\n",
              "Name: Sample Set, dtype: int64"
            ]
          },
          "metadata": {
            "tags": []
          },
          "execution_count": 36
        }
      ]
    },
    {
      "cell_type": "code",
      "metadata": {
        "id": "OGHz89Pen1zw",
        "colab_type": "code",
        "colab": {
          "base_uri": "https://localhost:8080/",
          "height": 51
        },
        "outputId": "195c0321-73ed-4759-868e-e58fc7e058e4"
      },
      "source": [
        "sampleSet_data = covid_testing_data[covid_testing_data['Country'] == 'Germany']\n",
        "sampleSet_data['Sample Set'].value_counts()"
      ],
      "execution_count": 37,
      "outputs": [
        {
          "output_type": "execute_result",
          "data": {
            "text/plain": [
              "Prospectively collected set    10\n",
              "Name: Sample Set, dtype: int64"
            ]
          },
          "metadata": {
            "tags": []
          },
          "execution_count": 37
        }
      ]
    },
    {
      "cell_type": "markdown",
      "metadata": {
        "id": "9U69x7hop60n",
        "colab_type": "text"
      },
      "source": [
        "Countries that need to take action including USA"
      ]
    },
    {
      "cell_type": "code",
      "metadata": {
        "id": "PH-AZNM6oZAG",
        "colab_type": "code",
        "colab": {
          "base_uri": "https://localhost:8080/",
          "height": 51
        },
        "outputId": "caa75a85-d59f-48fe-d076-28db60efe17e"
      },
      "source": [
        "sampleSet_data = covid_testing_data[covid_testing_data['Country'] == 'Chile']\n",
        "sampleSet_data['Sample Set'].value_counts()"
      ],
      "execution_count": 38,
      "outputs": [
        {
          "output_type": "execute_result",
          "data": {
            "text/plain": [
              "Retrospective set    7\n",
              "Name: Sample Set, dtype: int64"
            ]
          },
          "metadata": {
            "tags": []
          },
          "execution_count": 38
        }
      ]
    },
    {
      "cell_type": "markdown",
      "metadata": {
        "id": "RjeBieAXqxuQ",
        "colab_type": "text"
      },
      "source": [
        "**Observation 6: Countries that are currently winning over COVID-19 are collecting Prospective and Retrospective Sample sets. Infact, China (winning country) is encouraging Prospective collection of Sample sets.**\n",
        "<br/><br/> USA is collecting Retrospective Sample sets. Encouraging Prospective collection of Sample sets might help.\n",
        "<br/>\n",
        "<br/> Reference: https://www.statsdirect.com/help/basics/prospective.htm"
      ]
    },
    {
      "cell_type": "code",
      "metadata": {
        "id": "JupP3ZU0_As8",
        "colab_type": "code",
        "colab": {
          "base_uri": "https://localhost:8080/",
          "height": 51
        },
        "outputId": "ca865929-48db-4f0b-edd4-a26a4909416e"
      },
      "source": [
        "diagnostic_data['Reference Method'].value_counts()"
      ],
      "execution_count": 39,
      "outputs": [
        {
          "output_type": "execute_result",
          "data": {
            "text/plain": [
              "RT-PCR    152\n",
              "Name: Reference Method, dtype: int64"
            ]
          },
          "metadata": {
            "tags": []
          },
          "execution_count": 39
        }
      ]
    },
    {
      "cell_type": "code",
      "metadata": {
        "id": "Bn6csiVE_Hhr",
        "colab_type": "code",
        "colab": {
          "base_uri": "https://localhost:8080/",
          "height": 119
        },
        "outputId": "c9b433a1-ef9d-431e-a941-cbf1b026aa00"
      },
      "source": [
        "diagnostic_data_china['Reference Method'].value_counts()"
      ],
      "execution_count": 40,
      "outputs": [
        {
          "output_type": "execute_result",
          "data": {
            "text/plain": [
              "RT-PCR                                                    91\n",
              "Clinical examination; Computed Tomography (CT); RT-PCR    34\n",
              "WHO Interim Guidance                                      19\n",
              "Clinical examination; RT-PCR                              16\n",
              "Clinical examination; Epidemiologic criteria; RT-PCR       2\n",
              "Name: Reference Method, dtype: int64"
            ]
          },
          "metadata": {
            "tags": []
          },
          "execution_count": 40
        }
      ]
    },
    {
      "cell_type": "code",
      "metadata": {
        "id": "hHN49aKbADDa",
        "colab_type": "code",
        "colab": {
          "base_uri": "https://localhost:8080/",
          "height": 170
        },
        "outputId": "877098a1-c3a8-4986-d914-b0c90aea9edf"
      },
      "source": [
        "covid_testing_data['Reference Method'].value_counts()"
      ],
      "execution_count": 41,
      "outputs": [
        {
          "output_type": "execute_result",
          "data": {
            "text/plain": [
              "RT-PCR                                                    518\n",
              "Clinical examination; Computed Tomography (CT); RT-PCR     34\n",
              "WHO Interim Guidance                                       19\n",
              "Computed Tomography (CT); RT-PCR                           18\n",
              "Clinical examination; RT-PCR                               16\n",
              "Microneutralization test (MNT)                              8\n",
              "Clinical examination; Epidemiologic criteria; RT-PCR        6\n",
              "Immunoassay                                                 1\n",
              "Name: Reference Method, dtype: int64"
            ]
          },
          "metadata": {
            "tags": []
          },
          "execution_count": 41
        }
      ]
    },
    {
      "cell_type": "code",
      "metadata": {
        "id": "_Ew8nMKJAcmb",
        "colab_type": "code",
        "colab": {
          "base_uri": "https://localhost:8080/",
          "height": 51
        },
        "outputId": "470ddc8e-beb4-4b5b-bdf6-e7716fe2dad2"
      },
      "source": [
        "covid_testing_data[covid_testing_data['Reference Method'] == 'Clinical examination; Computed Tomography (CT); RT-PCR']['Country'].value_counts()"
      ],
      "execution_count": 42,
      "outputs": [
        {
          "output_type": "execute_result",
          "data": {
            "text/plain": [
              "China    34\n",
              "Name: Country, dtype: int64"
            ]
          },
          "metadata": {
            "tags": []
          },
          "execution_count": 42
        }
      ]
    },
    {
      "cell_type": "code",
      "metadata": {
        "id": "DySw8zfhAsiM",
        "colab_type": "code",
        "colab": {
          "base_uri": "https://localhost:8080/",
          "height": 51
        },
        "outputId": "1d543ddb-0d47-421d-a2dc-2eab0a913842"
      },
      "source": [
        "covid_testing_data[covid_testing_data['Reference Method'] == 'WHO Interim Guidance']['Country'].value_counts()"
      ],
      "execution_count": 43,
      "outputs": [
        {
          "output_type": "execute_result",
          "data": {
            "text/plain": [
              "China    19\n",
              "Name: Country, dtype: int64"
            ]
          },
          "metadata": {
            "tags": []
          },
          "execution_count": 43
        }
      ]
    },
    {
      "cell_type": "code",
      "metadata": {
        "id": "N89Qx2JpBGLL",
        "colab_type": "code",
        "colab": {
          "base_uri": "https://localhost:8080/",
          "height": 51
        },
        "outputId": "1ca31922-ed1a-4438-e745-12c085e49f6a"
      },
      "source": [
        "covid_testing_data[covid_testing_data['Reference Method'] == 'Clinical examination; RT-PCR']['Country'].value_counts()"
      ],
      "execution_count": 44,
      "outputs": [
        {
          "output_type": "execute_result",
          "data": {
            "text/plain": [
              "China    16\n",
              "Name: Country, dtype: int64"
            ]
          },
          "metadata": {
            "tags": []
          },
          "execution_count": 44
        }
      ]
    },
    {
      "cell_type": "code",
      "metadata": {
        "id": "pM_iAde4AzP5",
        "colab_type": "code",
        "colab": {
          "base_uri": "https://localhost:8080/",
          "height": 51
        },
        "outputId": "aafa1bb5-db88-420c-8568-2be8369444a7"
      },
      "source": [
        "covid_testing_data[covid_testing_data['Reference Method'] == 'Computed Tomography (CT); RT-PCR']['Country'].value_counts()"
      ],
      "execution_count": 45,
      "outputs": [
        {
          "output_type": "execute_result",
          "data": {
            "text/plain": [
              "Belgium    18\n",
              "Name: Country, dtype: int64"
            ]
          },
          "metadata": {
            "tags": []
          },
          "execution_count": 45
        }
      ]
    },
    {
      "cell_type": "code",
      "metadata": {
        "id": "VM159YPVBQGm",
        "colab_type": "code",
        "colab": {
          "base_uri": "https://localhost:8080/",
          "height": 51
        },
        "outputId": "d336a6a1-014d-4c5f-c926-afd079c06966"
      },
      "source": [
        "covid_testing_data[covid_testing_data['Reference Method'] == 'Microneutralization test (MNT)']['Country'].value_counts()"
      ],
      "execution_count": 46,
      "outputs": [
        {
          "output_type": "execute_result",
          "data": {
            "text/plain": [
              "Finland    8\n",
              "Name: Country, dtype: int64"
            ]
          },
          "metadata": {
            "tags": []
          },
          "execution_count": 46
        }
      ]
    },
    {
      "cell_type": "code",
      "metadata": {
        "id": "H9AIb-UMBhQ7",
        "colab_type": "code",
        "colab": {
          "base_uri": "https://localhost:8080/",
          "height": 68
        },
        "outputId": "e78f5b1b-8265-4a23-cb2c-e76ae2d62bbe"
      },
      "source": [
        "covid_testing_data[covid_testing_data['Reference Method'] == 'Clinical examination; Epidemiologic criteria; RT-PCR']['Country'].value_counts()"
      ],
      "execution_count": 47,
      "outputs": [
        {
          "output_type": "execute_result",
          "data": {
            "text/plain": [
              "Italy    4\n",
              "China    2\n",
              "Name: Country, dtype: int64"
            ]
          },
          "metadata": {
            "tags": []
          },
          "execution_count": 47
        }
      ]
    },
    {
      "cell_type": "code",
      "metadata": {
        "id": "HWVY4eLtBhcA",
        "colab_type": "code",
        "colab": {
          "base_uri": "https://localhost:8080/",
          "height": 51
        },
        "outputId": "7b25e7c2-47d0-4a42-d3b0-900be2a179a7"
      },
      "source": [
        "covid_testing_data[covid_testing_data['Reference Method'] == 'Immunoassay']['Country'].value_counts()"
      ],
      "execution_count": 48,
      "outputs": [
        {
          "output_type": "execute_result",
          "data": {
            "text/plain": [
              "Lithuania    1\n",
              "Name: Country, dtype: int64"
            ]
          },
          "metadata": {
            "tags": []
          },
          "execution_count": 48
        }
      ]
    },
    {
      "cell_type": "markdown",
      "metadata": {
        "id": "bs_0WL_gCHDx",
        "colab_type": "text"
      },
      "source": [
        "**Observation 7: Most of the countries use 'RT-PCR' as the diagnostic testing reference method, but the winning countries (China, Belgium, Finland, Italy, and Lithuania) are doing it in different(smart and better) ways.**\n",
        "<br/><br/> Maybe, the reference method 'RT-PCR' is not enough to achieve accuracy in diagnostic testing. Learning from the countries who are taking control over COVID, countries like USA should consider incorporating following diagnostic testing reference methods:\n",
        "\n",
        "\n",
        "*   Clinical examination\n",
        "*   Computed Tomography (CT)\n",
        "*   WHO Interim Guidance\n",
        "*   Microneutralization test (MNT)\n",
        "*   Epidemiologic criteria\n",
        "*   Immunoassay\n",
        "\n",
        "<br/>References:\n",
        "\n",
        "\n",
        "*   (WHO Interim Guidance) https://www.cdc.gov/coronavirus/2019-ncov/hcp/clinical-criteria.html\n",
        "*   (Microneutralization test) https://www.who.int/influenza/gisrs_laboratory/2010_12_06_serological_diagnosis_of_influenza_by_microneutralization_assay.pdf\n",
        "\n",
        "\n"
      ]
    },
    {
      "cell_type": "code",
      "metadata": {
        "id": "dsX6HIfn_A3-",
        "colab_type": "code",
        "colab": {
          "base_uri": "https://localhost:8080/",
          "height": 85
        },
        "outputId": "d2027e82-3c3b-481a-b955-8d20e3b5feb2"
      },
      "source": [
        "diagnostic_data['Repeats'].value_counts()"
      ],
      "execution_count": 49,
      "outputs": [
        {
          "output_type": "execute_result",
          "data": {
            "text/plain": [
              "Interpretation by two independent readers    124\n",
              "Not available                                 17\n",
              "No replicates                                 11\n",
              "Name: Repeats, dtype: int64"
            ]
          },
          "metadata": {
            "tags": []
          },
          "execution_count": 49
        }
      ]
    },
    {
      "cell_type": "code",
      "metadata": {
        "id": "ULHlbU7CI9nL",
        "colab_type": "code",
        "colab": {
          "base_uri": "https://localhost:8080/",
          "height": 102
        },
        "outputId": "f34fdcf5-7d26-4c04-c643-6e1802769a7d"
      },
      "source": [
        "diagnostic_data_china['Repeats'].value_counts()"
      ],
      "execution_count": 50,
      "outputs": [
        {
          "output_type": "execute_result",
          "data": {
            "text/plain": [
              "Not available    94\n",
              "No replicates    33\n",
              "Triplicates      24\n",
              "Duplicates       11\n",
              "Name: Repeats, dtype: int64"
            ]
          },
          "metadata": {
            "tags": []
          },
          "execution_count": 50
        }
      ]
    },
    {
      "cell_type": "code",
      "metadata": {
        "id": "wR03UV5KJ4Fu",
        "colab_type": "code",
        "colab": {
          "base_uri": "https://localhost:8080/",
          "height": 170
        },
        "outputId": "9d96d0d5-d30a-4f9b-d07a-3b7e97d2d293"
      },
      "source": [
        "covid_testing_data['Repeats'].value_counts()"
      ],
      "execution_count": 51,
      "outputs": [
        {
          "output_type": "execute_result",
          "data": {
            "text/plain": [
              "Not available                                                                                                                            261\n",
              "No replicates                                                                                                                            144\n",
              "Interpretation by two independent readers                                                                                                124\n",
              "Triplicates                                                                                                                               38\n",
              "High concentration pools: tested once; Low/neg concentration pools: tested in triplicate                                                  26\n",
              "Duplicates                                                                                                                                25\n",
              "High concentration pools tested: x1 Intermediate concentration pools tested: x4 or x5 Negative pools tested: x2                            1\n",
              "High concentration pools tested once Intermediate concentration/negative pools tested in triplicate Low concentration pools tested x5      1\n",
              "Name: Repeats, dtype: int64"
            ]
          },
          "metadata": {
            "tags": []
          },
          "execution_count": 51
        }
      ]
    },
    {
      "cell_type": "markdown",
      "metadata": {
        "id": "nbw5j-4FLUo_",
        "colab_type": "text"
      },
      "source": [
        "**Observation 8: < Need your help for 'repeats' Nafisa >**"
      ]
    },
    {
      "cell_type": "code",
      "metadata": {
        "id": "x2cIr7gx_A7p",
        "colab_type": "code",
        "colab": {
          "base_uri": "https://localhost:8080/",
          "height": 85
        },
        "outputId": "b11a827d-41e9-4fc6-9c6b-d4801deb0531"
      },
      "source": [
        "diagnostic_data['Blinding'].value_counts()"
      ],
      "execution_count": 52,
      "outputs": [
        {
          "output_type": "execute_result",
          "data": {
            "text/plain": [
              "Blinded to reference results        125\n",
              "Not available                        26\n",
              "Not blinded to reference results      1\n",
              "Name: Blinding, dtype: int64"
            ]
          },
          "metadata": {
            "tags": []
          },
          "execution_count": 52
        }
      ]
    },
    {
      "cell_type": "code",
      "metadata": {
        "id": "dVrAGieaMYRh",
        "colab_type": "code",
        "colab": {
          "base_uri": "https://localhost:8080/",
          "height": 85
        },
        "outputId": "2431fb82-0078-4970-c0a4-ddce98da793e"
      },
      "source": [
        "covid_testing_data['Blinding'].value_counts()"
      ],
      "execution_count": 53,
      "outputs": [
        {
          "output_type": "execute_result",
          "data": {
            "text/plain": [
              "Not available                       402\n",
              "Blinded to reference results        184\n",
              "Not blinded to reference results     34\n",
              "Name: Blinding, dtype: int64"
            ]
          },
          "metadata": {
            "tags": []
          },
          "execution_count": 53
        }
      ]
    },
    {
      "cell_type": "code",
      "metadata": {
        "id": "Afg2VrWiMhhJ",
        "colab_type": "code",
        "colab": {
          "base_uri": "https://localhost:8080/",
          "height": 153
        },
        "outputId": "0c58a7fa-833f-44f7-9451-21c783c3b200"
      },
      "source": [
        "covid_testing_data[covid_testing_data['Blinding'] == 'Not blinded to reference results']['Country'].value_counts()"
      ],
      "execution_count": 54,
      "outputs": [
        {
          "output_type": "execute_result",
          "data": {
            "text/plain": [
              "China                             17\n",
              "Spain                             12\n",
              "Great Britain                      1\n",
              "Lithuania                          1\n",
              "France                             1\n",
              "Chile                              1\n",
              "United States of America (USA)     1\n",
              "Name: Country, dtype: int64"
            ]
          },
          "metadata": {
            "tags": []
          },
          "execution_count": 54
        }
      ]
    },
    {
      "cell_type": "code",
      "metadata": {
        "id": "fIiqlrLgNVgU",
        "colab_type": "code",
        "colab": {
          "base_uri": "https://localhost:8080/",
          "height": 85
        },
        "outputId": "a88c7577-3873-4413-f578-c8e301c487af"
      },
      "source": [
        "diagnostic_data_china['Blinding'].value_counts()"
      ],
      "execution_count": 55,
      "outputs": [
        {
          "output_type": "execute_result",
          "data": {
            "text/plain": [
              "Not available                       144\n",
              "Not blinded to reference results     17\n",
              "Blinded to reference results          1\n",
              "Name: Blinding, dtype: int64"
            ]
          },
          "metadata": {
            "tags": []
          },
          "execution_count": 55
        }
      ]
    },
    {
      "cell_type": "code",
      "metadata": {
        "id": "Hzqx8jIsNV3S",
        "colab_type": "code",
        "colab": {
          "base_uri": "https://localhost:8080/",
          "height": 68
        },
        "outputId": "ad221e7f-58a5-4143-db8e-4e7e599ffc53"
      },
      "source": [
        "covid_testing_data[covid_testing_data['Country'] == 'Spain']['Blinding'].value_counts()"
      ],
      "execution_count": 56,
      "outputs": [
        {
          "output_type": "execute_result",
          "data": {
            "text/plain": [
              "Not blinded to reference results    12\n",
              "Blinded to reference results         1\n",
              "Name: Blinding, dtype: int64"
            ]
          },
          "metadata": {
            "tags": []
          },
          "execution_count": 56
        }
      ]
    },
    {
      "cell_type": "markdown",
      "metadata": {
        "id": "uhiTl-2SNpyK",
        "colab_type": "text"
      },
      "source": [
        "**Observation 8: Winning countries are 'Not blinded to reference results'. USA is 'Blinded to reference results'.**\n",
        "<br/><br/> Requires further analysis."
      ]
    },
    {
      "cell_type": "code",
      "metadata": {
        "id": "obobnkrh_BBa",
        "colab_type": "code",
        "colab": {
          "base_uri": "https://localhost:8080/",
          "height": 68
        },
        "outputId": "07edd297-398c-48b7-8d80-e86b9907218a"
      },
      "source": [
        "diagnostic_data['Test Type'].value_counts()"
      ],
      "execution_count": 57,
      "outputs": [
        {
          "output_type": "execute_result",
          "data": {
            "text/plain": [
              "Antibody     138\n",
              "Molecular     14\n",
              "Name: Test Type, dtype: int64"
            ]
          },
          "metadata": {
            "tags": []
          },
          "execution_count": 57
        }
      ]
    },
    {
      "cell_type": "markdown",
      "metadata": {
        "id": "98s1diHGOsbd",
        "colab_type": "text"
      },
      "source": [
        "Testing type - global"
      ]
    },
    {
      "cell_type": "code",
      "metadata": {
        "id": "yoc6VME0OetN",
        "colab_type": "code",
        "colab": {
          "base_uri": "https://localhost:8080/",
          "height": 85
        },
        "outputId": "2093beb4-4c68-4596-f14b-24a686fc869c"
      },
      "source": [
        "covid_testing_data['Test Type'].value_counts()"
      ],
      "execution_count": 58,
      "outputs": [
        {
          "output_type": "execute_result",
          "data": {
            "text/plain": [
              "Antibody     527\n",
              "Molecular     84\n",
              "Antigen        9\n",
              "Name: Test Type, dtype: int64"
            ]
          },
          "metadata": {
            "tags": []
          },
          "execution_count": 58
        }
      ]
    },
    {
      "cell_type": "code",
      "metadata": {
        "id": "6xeD4h_VO21m",
        "colab_type": "code",
        "colab": {
          "base_uri": "https://localhost:8080/",
          "height": 85
        },
        "outputId": "89c43136-0338-4d69-ac49-7ed89119a70b"
      },
      "source": [
        "diagnostic_data_china['Test Type'].value_counts()"
      ],
      "execution_count": 59,
      "outputs": [
        {
          "output_type": "execute_result",
          "data": {
            "text/plain": [
              "Antibody     146\n",
              "Molecular     15\n",
              "Antigen        1\n",
              "Name: Test Type, dtype: int64"
            ]
          },
          "metadata": {
            "tags": []
          },
          "execution_count": 59
        }
      ]
    },
    {
      "cell_type": "code",
      "metadata": {
        "id": "6grtzLA4PFDv",
        "colab_type": "code",
        "colab": {
          "base_uri": "https://localhost:8080/",
          "height": 102
        },
        "outputId": "9c8037a9-9aad-4b43-8256-2c4795fc3487"
      },
      "source": [
        "covid_testing_data[covid_testing_data['Test Type'] == 'Antigen']['Country'].value_counts()"
      ],
      "execution_count": 60,
      "outputs": [
        {
          "output_type": "execute_result",
          "data": {
            "text/plain": [
              "Chile     6\n",
              "China     1\n",
              "France    1\n",
              "Spain     1\n",
              "Name: Country, dtype: int64"
            ]
          },
          "metadata": {
            "tags": []
          },
          "execution_count": 60
        }
      ]
    },
    {
      "cell_type": "markdown",
      "metadata": {
        "id": "rtHqoIGSPrhh",
        "colab_type": "text"
      },
      "source": [
        "**Observation 9: Testing type 'Antigen' has received an emergency-use authorization but the test is not in widespread use yet. Winning countries are quickly adopting Antigen testing type. USA should try to incorporate Antigen testing type quickly.**"
      ]
    },
    {
      "cell_type": "code",
      "metadata": {
        "id": "ONpAm8Op_A-o",
        "colab_type": "code",
        "colab": {
          "base_uri": "https://localhost:8080/",
          "height": 102
        },
        "outputId": "c178a1e9-a97b-4958-83ca-1d6154c97687"
      },
      "source": [
        "diagnostic_data['Test Format'].value_counts()"
      ],
      "execution_count": 61,
      "outputs": [
        {
          "output_type": "execute_result",
          "data": {
            "text/plain": [
              "Rapid diagnostic test (RDT)                  112\n",
              "Enzyme-linked immunosorbent assay (ELISA)     22\n",
              "Integrated system                             14\n",
              "Chemiluminescence immunoassay (CLIA)           4\n",
              "Name: Test Format, dtype: int64"
            ]
          },
          "metadata": {
            "tags": []
          },
          "execution_count": 61
        }
      ]
    },
    {
      "cell_type": "code",
      "metadata": {
        "id": "lQqz7io1QpDi",
        "colab_type": "code",
        "colab": {
          "base_uri": "https://localhost:8080/",
          "height": 204
        },
        "outputId": "e1badcc3-3ebe-4fff-8174-1faaab1698b7"
      },
      "source": [
        "covid_testing_data['Test Format'].value_counts()"
      ],
      "execution_count": 62,
      "outputs": [
        {
          "output_type": "execute_result",
          "data": {
            "text/plain": [
              "Rapid diagnostic test (RDT)                     345\n",
              "Enzyme-linked immunosorbent assay (ELISA)       132\n",
              "Manual PCR                                       42\n",
              "Integrated system                                33\n",
              "Chemiluminescence immunoassay (CLIA)             24\n",
              "Not available                                    22\n",
              "Immunochromatographic test                       12\n",
              "Rapid diagnostic test (RDT) with reader           7\n",
              "Electrochemiluminescence immunoassay (ECLIA)      2\n",
              "Manual isothermal amplification                   1\n",
              "Name: Test Format, dtype: int64"
            ]
          },
          "metadata": {
            "tags": []
          },
          "execution_count": 62
        }
      ]
    },
    {
      "cell_type": "code",
      "metadata": {
        "id": "SaMJ5WY5RIHb",
        "colab_type": "code",
        "colab": {
          "base_uri": "https://localhost:8080/",
          "height": 153
        },
        "outputId": "118a3c91-1cf5-4e34-b93e-0bafd137eda6"
      },
      "source": [
        "diagnostic_data_china['Test Format'].value_counts()"
      ],
      "execution_count": 63,
      "outputs": [
        {
          "output_type": "execute_result",
          "data": {
            "text/plain": [
              "Enzyme-linked immunosorbent assay (ELISA)    83\n",
              "Rapid diagnostic test (RDT)                  31\n",
              "Not available                                22\n",
              "Chemiluminescence immunoassay (CLIA)         18\n",
              "Manual PCR                                    6\n",
              "Rapid diagnostic test (RDT) with reader       1\n",
              "Integrated system                             1\n",
              "Name: Test Format, dtype: int64"
            ]
          },
          "metadata": {
            "tags": []
          },
          "execution_count": 63
        }
      ]
    },
    {
      "cell_type": "code",
      "metadata": {
        "id": "B4YL-i0oRW9O",
        "colab_type": "code",
        "colab": {
          "base_uri": "https://localhost:8080/",
          "height": 119
        },
        "outputId": "90502b8f-e680-4642-ab64-1aa37966eaba"
      },
      "source": [
        "covid_testing_data[covid_testing_data['Test Format'] == 'Manual PCR']['Country'].value_counts()"
      ],
      "execution_count": 64,
      "outputs": [
        {
          "output_type": "execute_result",
          "data": {
            "text/plain": [
              "France           23\n",
              "South Africa      7\n",
              "China             6\n",
              "Great Britain     5\n",
              "Chile             1\n",
              "Name: Country, dtype: int64"
            ]
          },
          "metadata": {
            "tags": []
          },
          "execution_count": 64
        }
      ]
    },
    {
      "cell_type": "code",
      "metadata": {
        "id": "fuFtNV1dRqWj",
        "colab_type": "code",
        "colab": {
          "base_uri": "https://localhost:8080/",
          "height": 51
        },
        "outputId": "160932ec-819e-4273-d0b9-1daedec9243e"
      },
      "source": [
        "covid_testing_data[covid_testing_data['Test Format'] == 'Immunochromatographic test']['Country'].value_counts()"
      ],
      "execution_count": 65,
      "outputs": [
        {
          "output_type": "execute_result",
          "data": {
            "text/plain": [
              "Japan    12\n",
              "Name: Country, dtype: int64"
            ]
          },
          "metadata": {
            "tags": []
          },
          "execution_count": 65
        }
      ]
    },
    {
      "cell_type": "code",
      "metadata": {
        "id": "wqjMotEYStCI",
        "colab_type": "code",
        "colab": {
          "base_uri": "https://localhost:8080/",
          "height": 51
        },
        "outputId": "f081dedb-a05e-4aa4-c0ee-d43fe8fa6c80"
      },
      "source": [
        "covid_testing_data[covid_testing_data['Test Format'] == 'Electrochemiluminescence immunoassay (ECLIA)']['Country'].value_counts()"
      ],
      "execution_count": 66,
      "outputs": [
        {
          "output_type": "execute_result",
          "data": {
            "text/plain": [
              "Great Britain    2\n",
              "Name: Country, dtype: int64"
            ]
          },
          "metadata": {
            "tags": []
          },
          "execution_count": 66
        }
      ]
    },
    {
      "cell_type": "markdown",
      "metadata": {
        "id": "UiAH3y9XSMqy",
        "colab_type": "text"
      },
      "source": [
        "**Observation 10: Incorporating 'Manual PCR', 'Immunochromatographic test', 'Electrochemiluminescence immunoassay (ECLIA)' with existing Test Formats might help in obtaining accurate testing results.**"
      ]
    },
    {
      "cell_type": "code",
      "metadata": {
        "id": "9g01uHSDB4Po",
        "colab_type": "code",
        "colab": {
          "base_uri": "https://localhost:8080/",
          "height": 102
        },
        "outputId": "aebf3c18-7ca7-42a1-9a34-a4eb0a32021e"
      },
      "source": [
        "diagnostic_data['Use Case'].value_counts()"
      ],
      "execution_count": 67,
      "outputs": [
        {
          "output_type": "execute_result",
          "data": {
            "text/plain": [
              "Detection of current infection; Detection of past infection    132\n",
              "Not available                                                   14\n",
              "Detection of current infection                                   5\n",
              "Detection of past infection                                      1\n",
              "Name: Use Case, dtype: int64"
            ]
          },
          "metadata": {
            "tags": []
          },
          "execution_count": 67
        }
      ]
    },
    {
      "cell_type": "code",
      "metadata": {
        "id": "qSH7zTgyTR11",
        "colab_type": "code",
        "colab": {
          "base_uri": "https://localhost:8080/",
          "height": 119
        },
        "outputId": "5e55bd1d-97f0-4c34-9519-805733c4b56c"
      },
      "source": [
        "covid_testing_data['Use Case'].value_counts()"
      ],
      "execution_count": 68,
      "outputs": [
        {
          "output_type": "execute_result",
          "data": {
            "text/plain": [
              "Detection of current infection; Detection of past infection           286\n",
              "Detection of current infection                                        183\n",
              "Not available                                                         139\n",
              "Detection of past infection                                             8\n",
              "Detection of current infection; Detection of past infection; Other      4\n",
              "Name: Use Case, dtype: int64"
            ]
          },
          "metadata": {
            "tags": []
          },
          "execution_count": 68
        }
      ]
    },
    {
      "cell_type": "code",
      "metadata": {
        "id": "nIqFFREfTbgR",
        "colab_type": "code",
        "colab": {
          "base_uri": "https://localhost:8080/",
          "height": 102
        },
        "outputId": "b6e168a2-553c-4f77-c86f-dcd843888796"
      },
      "source": [
        "diagnostic_data_china['Use Case'].value_counts()"
      ],
      "execution_count": 69,
      "outputs": [
        {
          "output_type": "execute_result",
          "data": {
            "text/plain": [
              "Detection of current infection                                 93\n",
              "Not available                                                  48\n",
              "Detection of current infection; Detection of past infection    19\n",
              "Detection of past infection                                     2\n",
              "Name: Use Case, dtype: int64"
            ]
          },
          "metadata": {
            "tags": []
          },
          "execution_count": 69
        }
      ]
    },
    {
      "cell_type": "code",
      "metadata": {
        "id": "pNESAW9gB4d3",
        "colab_type": "code",
        "colab": {
          "base_uri": "https://localhost:8080/",
          "height": 442
        },
        "outputId": "88b3c651-2213-4f62-8cec-7230484167a1"
      },
      "source": [
        "diagnostic_data['Test Name'].value_counts()"
      ],
      "execution_count": 70,
      "outputs": [
        {
          "output_type": "execute_result",
          "data": {
            "text/plain": [
              "VivaDiag COVID-19 IgM/IgG Rapid Test                                                            12\n",
              "COVID-19 (SARS-CoV-2) IgG/IgM Antibody Test Kit (Colloidal Gold)                                12\n",
              "Coronavirus IgG/IgM Antibody (COVID-19) Test Cassette                                           12\n",
              "COVID-19 IgG/IgM Rapid Test Cassette                                                            12\n",
              "COVID-19 IgM-IgG Dual Antibody Rapid Test                                                       12\n",
              "Novel Coronavirus (SARSCoV-2) IgM/IgG Combo Rapid Test-Cassette                                 12\n",
              "SARS-CoV-2 IgM/IgG Ab Rapid Test                                                                12\n",
              "PerfectPOC Novel Corona Virus (SARS-CoV-2) IgM/IgG Rapid Test Kit                               12\n",
              "Novel Coronavirus (2019-nCoV) Ab Test (Colloidal Gold)                                          12\n",
              "SARS-CoV-2 IgG                                                                                   8\n",
              "EDI? Novel Coronavirus COVID-19 IgM ELISA Kit                                                    4\n",
              "SARS-CoV-2 Antibody Test (Lateral Flow Method)                                                   4\n",
              "EDI? Novel Coronavirus COVID-19 IgG ELISA Kit                                                    4\n",
              "EI SARS-Cov-2 IgG assay                                                                          4\n",
              "EDI? Novel Coronavirus COVID-19 IgM ELISA Kit; EDI? Novel Coronavirus COVID-19 IgG ELISA Kit     4\n",
              "Panther Fusion SARS-CoV-2 assay                                                                  3\n",
              "Xpert Xpress SARS-CoV-2                                                                          3\n",
              "cobasü¾¼ SARS-CoV-2 (for use on the cobasü¾¼ 6800/8800 Systems)                            2\n",
              "Simplexa? COVID-19 Direct RT-PCR Kit                                                             2\n",
              "IgG indirect ELISA assay                                                                         2\n",
              "ID NOW COVID-19                                                                                  1\n",
              "ePlexü¾¼ SARS-CoV-2 Test                                                                      1\n",
              "SARS-CoV-2 DETECTR                                                                               1\n",
              "Fluxergy Sample-to-Answer SARS-CoV-2 RT-PCR                                                      1\n",
              "Name: Test Name, dtype: int64"
            ]
          },
          "metadata": {
            "tags": []
          },
          "execution_count": 70
        }
      ]
    },
    {
      "cell_type": "code",
      "metadata": {
        "id": "WYpZom4NTpug",
        "colab_type": "code",
        "colab": {
          "base_uri": "https://localhost:8080/",
          "height": 561
        },
        "outputId": "6d179f44-3bf6-4ff1-fba9-c4948cea602e"
      },
      "source": [
        "diagnostic_data_china['Test Name'].value_counts()"
      ],
      "execution_count": 71,
      "outputs": [
        {
          "output_type": "execute_result",
          "data": {
            "text/plain": [
              "2019-nCoV IgG/IgM Antibody Detection Kit                                         52\n",
              "IgG/IgM ELISA kit                                                                28\n",
              "Novel Coronavirus (2019- nCoV) IgM/IgG Antibody Test Kit                          9\n",
              "Not available                                                                     8\n",
              "2019-nCoV Ab Test (Colloidal Gold) (IgM/IgG Whole Blood/Serum/Plasma Combo)       8\n",
              "SARS-CoV-2 IgM/IgG CLIA kits                                                      8\n",
              "Novel Coronavirus (SARS-CoV-2) Antibody (IgM / IgG) Test (Colloidal Gold)         4\n",
              "Wantai SARS-CoV-2 Ab ELISA                                                        4\n",
              "Wantai SARS-CoV-2 IgG ELISA                                                       4\n",
              "Wantai SARS-CoV-2 IgM ELISA                                                       4\n",
              "Novel Coronavirus (2019-nCoV) Real Time Multiplex RT-PCR kit                      4\n",
              "SARS?CoV?2 rapid IgG?IgM combined antibody test kit                               3\n",
              "Coronavirus IgG/IgM antibody GICA kit                                             3\n",
              "Novel Coronavirus IgG/IgM antibody ELISA kit                                      3\n",
              "Chemiluminescence detection kit                                                   2\n",
              "SARS-CoV-2 antibody detection kit                                                 2\n",
              "SARS-CoV-2 ELISA                                                                  2\n",
              "Liferiver Novel Coronavirus (2019-nCoV) Real Time Multiplex RT-PCRT kit           1\n",
              "SARS-CoV-2 Antibody Test (Lateral Flow Method)                                    1\n",
              "Wantai SARS-CoV-2 Ab Rapid Test                                                   1\n",
              "Wantai SARS-CoV-2 IgM Rapid Test                                                  1\n",
              "2019 Novel Coronavirus (2019-nCoV) IgG Antibody Detection Kit (ELISA Method)      1\n",
              "SARS-CoV-2 ORF1ab/N qPCR detection kit                                            1\n",
              "iFlash-SARS-CoV-2 IgM                                                             1\n",
              "2019 Novel Coronavirus (2019-nCoV) IgM Antibody Detection Kit (ELISA Method)      1\n",
              "CMIA-IgM                                                                          1\n",
              "CMIA-Ab                                                                           1\n",
              "Wantai SARS-CoV-2 IgG Rapid Test                                                  1\n",
              "Bioeasy 2019-nCoV Ag Fluorescence Rapid Test Kit (Time-Resolved Fluorescence)     1\n",
              "RainSure COVID-19 dPCR Detection Kit (lab-based)                                  1\n",
              "iFlash-SARS-CoV-2 IgG                                                             1\n",
              "Name: Test Name, dtype: int64"
            ]
          },
          "metadata": {
            "tags": []
          },
          "execution_count": 71
        }
      ]
    },
    {
      "cell_type": "markdown",
      "metadata": {
        "id": "D0TPBlnwT5uX",
        "colab_type": "text"
      },
      "source": [
        "**Obseration 11: < Need Help for 'Test Name' >**\n",
        "<br/><br/> It is important to check the difference in tests (how each country performs a particular test)"
      ]
    },
    {
      "cell_type": "code",
      "metadata": {
        "id": "AOfYAyTjB4mR",
        "colab_type": "code",
        "colab": {
          "base_uri": "https://localhost:8080/",
          "height": 391
        },
        "outputId": "117488da-81bd-4a88-87a1-076057aaa1e4"
      },
      "source": [
        "diagnostic_data['Manufacturer'].value_counts()"
      ],
      "execution_count": 72,
      "outputs": [
        {
          "output_type": "execute_result",
          "data": {
            "text/plain": [
              "VivaChek Biotech (Hangzhou) Co., Ltd         12\n",
              "Epitope Diagnostics, Inc.                    12\n",
              "Innovita Biological Technology Co. Ltd       12\n",
              "Sure Bio-Tech (USA) Co., Ltd                 12\n",
              "DeepBlue Medical Technology Co Ltd.          12\n",
              "BioMedomics, Inc.                            12\n",
              "Decombio Biotechnology Co Ltd.               12\n",
              "Premier Biotech                              12\n",
              "UCP Biosciences                              12\n",
              "Jiangsu Bioperfectus Technologies Co. Ltd    12\n",
              "Abbott Diagnostics Inc.                       9\n",
              "EUROIMMUN AG                                  4\n",
              "Guangzhou Wondfo Biotech Co., Ltd             4\n",
              "Hologic                                       3\n",
              "Cepheid                                       3\n",
              "Roche Molecular Diagnostics                   2\n",
              "GenScript                                     2\n",
              "DiaSorin Molecular, LLC                       2\n",
              "Mammoth Biosciences                           1\n",
              "GenMark Diagnostics                           1\n",
              "Fluxergy LLC                                  1\n",
              "Name: Manufacturer, dtype: int64"
            ]
          },
          "metadata": {
            "tags": []
          },
          "execution_count": 72
        }
      ]
    },
    {
      "cell_type": "code",
      "metadata": {
        "id": "mnpNwbNTU6X4",
        "colab_type": "code",
        "colab": {
          "base_uri": "https://localhost:8080/",
          "height": 374
        },
        "outputId": "015a0ecd-8cce-40e8-d459-11eab7700a8e"
      },
      "source": [
        "diagnostic_data_china['Manufacturer'].value_counts()"
      ],
      "execution_count": 73,
      "outputs": [
        {
          "output_type": "execute_result",
          "data": {
            "text/plain": [
              "Zhuhai Livzon Diagnostics Inc                             31\n",
              "Beijing Wantai Biological Pharmacy Enterprise Co., Ltd    27\n",
              "Zhuhai Lizhu Reagent Co., Ltd.                            24\n",
              "Shenzhen Yahuilong Biotechnology Co Ltd                   14\n",
              "Shenzhen Yhlo Biotech Co. Ltd                             14\n",
              "Beijing Hotgen Biotech Co., Ltd.                          12\n",
              "Innovita Biological Technology Co. Ltd                     8\n",
              "Shanghai BioGerm Medical Biotechnology Co., Ltd.           8\n",
              "Shanghai Outdo Biotech Co., Ltd                            4\n",
              "DAAN Gene Co., Ltd of Sun Yat-sen University               4\n",
              "Jiangsu Medomics Medical Technologies                      3\n",
              "Xiamen InnoDx Biotech Co., Ltd.                            2\n",
              "Guangzhou Darui Biotechnology Co.,Ltd; Darui Biotech       2\n",
              "Darui Biotech                                              2\n",
              "Shenzhen Tisenc Medical Devices Company                    2\n",
              "Shanghai ZJ Bio-Tech Co., Ltd/Liferiver                    1\n",
              "Shenzhen Bioeasy Biotechnology Co., Ltd                    1\n",
              "Shanghai GeneoDx Biotechnology Co., Ltd                    1\n",
              "Guangzhou Wondfo Biotech Co., Ltd                          1\n",
              "RainSure Scientific Co., Ltd                               1\n",
              "Name: Manufacturer, dtype: int64"
            ]
          },
          "metadata": {
            "tags": []
          },
          "execution_count": 73
        }
      ]
    },
    {
      "cell_type": "markdown",
      "metadata": {
        "id": "Y3FjOHrSVLxL",
        "colab_type": "text"
      },
      "source": [
        "**Observation 12: At this point, it is super important that the Manufacturers worldwide work together and exchange information to help increase test accuracy and availability at global level.**"
      ]
    },
    {
      "cell_type": "code",
      "metadata": {
        "id": "DmJvn2ZDB4ua",
        "colab_type": "code",
        "colab": {
          "base_uri": "https://localhost:8080/",
          "height": 221
        },
        "outputId": "8e79290c-960b-4938-b442-f5f7d2605184"
      },
      "source": [
        "diagnostic_data['Catalog Number'].value_counts()"
      ],
      "execution_count": 74,
      "outputs": [
        {
          "output_type": "execute_result",
          "data": {
            "text/plain": [
              "Not available       64\n",
              "VID35-08- 011       12\n",
              "51-002-20           12\n",
              "VC012103            12\n",
              "U-CoV-102           12\n",
              "INGM-MC42S          12\n",
              "SC30201W            12\n",
              "KT-1032              4\n",
              "KT-1032; KT-1033     4\n",
              "KT-1033              4\n",
              "W195                 4\n",
              "Name: Catalog Number, dtype: int64"
            ]
          },
          "metadata": {
            "tags": []
          },
          "execution_count": 74
        }
      ]
    },
    {
      "cell_type": "code",
      "metadata": {
        "id": "xmk7sZQzCl1U",
        "colab_type": "code",
        "colab": {
          "base_uri": "https://localhost:8080/",
          "height": 255
        },
        "outputId": "16e14396-7838-4de8-c529-657ad5f82fdf"
      },
      "source": [
        "diagnostic_data['Lot Number'].value_counts()"
      ],
      "execution_count": 75,
      "outputs": [
        {
          "output_type": "execute_result",
          "data": {
            "text/plain": [
              "Not available                   40\n",
              "20200313, 20200313, 20210312    12\n",
              "20200304                        12\n",
              "SMP202003 12, SMP202003 13      12\n",
              "COV125200 3B                    12\n",
              "E2003002                        12\n",
              "COV200300 71                    12\n",
              "20200305                        12\n",
              "2020032103                      12\n",
              "P630C; P637U                     4\n",
              "P630C                            4\n",
              "P637U                            4\n",
              "W19500318                        4\n",
              "Name: Lot Number, dtype: int64"
            ]
          },
          "metadata": {
            "tags": []
          },
          "execution_count": 75
        }
      ]
    },
    {
      "cell_type": "code",
      "metadata": {
        "id": "tCleZsuZCmQY",
        "colab_type": "code",
        "colab": {
          "base_uri": "https://localhost:8080/",
          "height": 119
        },
        "outputId": "289a3077-4465-490f-83fa-611026be8ea9"
      },
      "source": [
        "diagnostic_data['Index Sample Type'].value_counts()"
      ],
      "execution_count": 76,
      "outputs": [
        {
          "output_type": "execute_result",
          "data": {
            "text/plain": [
              "Plasma; Serum                                                   124\n",
              "Serum                                                            14\n",
              "Nasopharyngeal swabs                                             12\n",
              "Nasopharyngeal swabs; Oropharyngeal swabs; Tracheal aspirate      1\n",
              "Nasopharyngeal swabs; Oropharyngeal swabs                         1\n",
              "Name: Index Sample Type, dtype: int64"
            ]
          },
          "metadata": {
            "tags": []
          },
          "execution_count": 76
        }
      ]
    },
    {
      "cell_type": "code",
      "metadata": {
        "id": "QMHAw36EWHUu",
        "colab_type": "code",
        "colab": {
          "base_uri": "https://localhost:8080/",
          "height": 391
        },
        "outputId": "a5bd69b0-af20-4b88-fd4e-a93355aedc46"
      },
      "source": [
        "covid_testing_data['Index Sample Type'].value_counts()"
      ],
      "execution_count": 77,
      "outputs": [
        {
          "output_type": "execute_result",
          "data": {
            "text/plain": [
              "Serum                                                           301\n",
              "Plasma; Serum                                                   144\n",
              "Nasopharyngeal swabs                                             48\n",
              "Plasma                                                           43\n",
              "Plasma; Serum; Whole blood                                       14\n",
              "Not available                                                    13\n",
              "Respiratory specimen                                             10\n",
              "Nasopharyngeal swabs; Other; Deep respiratory specimen            6\n",
              "Whole blood                                                       6\n",
              "Serum; Whole blood                                                6\n",
              "Pharyngeal swabs                                                  5\n",
              "Nasopharyngeal swabs; Oropharyngeal swabs                         4\n",
              "Sputum                                                            4\n",
              "Oropharyngeal swabs                                               4\n",
              "Universal transport medium with pharyngeal swab                   3\n",
              "Universal transport medium with nasopharyngeal swab               3\n",
              "Nasopharyngeal swabs; Oropharyngeal swabs; Sputum                 2\n",
              "Capillary blood                                                   1\n",
              "Nasopharyngeal swabs; Oropharyngeal swabs; Tracheal aspirate      1\n",
              "Nasopharyngeal swabs; Other; Lower respiratory specimen           1\n",
              "Nasopharyngeal swabs; Tracheal aspirate                           1\n",
              "Name: Index Sample Type, dtype: int64"
            ]
          },
          "metadata": {
            "tags": []
          },
          "execution_count": 77
        }
      ]
    },
    {
      "cell_type": "code",
      "metadata": {
        "id": "qzJK_3vcCmUM",
        "colab_type": "code",
        "colab": {
          "base_uri": "https://localhost:8080/",
          "height": 119
        },
        "outputId": "5a36bdae-e518-4728-d0b4-a7825e501f70"
      },
      "source": [
        "diagnostic_data['Target'].value_counts()"
      ],
      "execution_count": 78,
      "outputs": [
        {
          "output_type": "execute_result",
          "data": {
            "text/plain": [
              "IgG                                54\n",
              "IgG; IgM                           44\n",
              "IgM                                40\n",
              "Specimen without RNA extraction    12\n",
              "Fresh RNA extracted                 2\n",
              "Name: Target, dtype: int64"
            ]
          },
          "metadata": {
            "tags": []
          },
          "execution_count": 78
        }
      ]
    },
    {
      "cell_type": "code",
      "metadata": {
        "id": "cyn3Pcj2WR6p",
        "colab_type": "code",
        "colab": {
          "base_uri": "https://localhost:8080/",
          "height": 272
        },
        "outputId": "eadcefff-b831-4dcd-df2e-4df7f90dd13b"
      },
      "source": [
        "covid_testing_data['Target'].value_counts()"
      ],
      "execution_count": 79,
      "outputs": [
        {
          "output_type": "execute_result",
          "data": {
            "text/plain": [
              "IgG                                197\n",
              "IgM                                164\n",
              "IgG; IgM                           133\n",
              "Not available                       29\n",
              "Specimen without RNA extraction     24\n",
              "Frozen RNA                          23\n",
              "Total Ig                            17\n",
              "IgA                                 11\n",
              "Fresh RNA extracted                 10\n",
              "Nucleocapsid protein                 4\n",
              "IgA; IgG                             4\n",
              "Not specified                        2\n",
              "Nucleoprotein antigens               1\n",
              "N protein                            1\n",
              "Name: Target, dtype: int64"
            ]
          },
          "metadata": {
            "tags": []
          },
          "execution_count": 79
        }
      ]
    },
    {
      "cell_type": "code",
      "metadata": {
        "id": "bBbpCcm0WcV5",
        "colab_type": "code",
        "colab": {
          "base_uri": "https://localhost:8080/",
          "height": 153
        },
        "outputId": "6f546050-4473-40d9-cef1-e7de9f172560"
      },
      "source": [
        "diagnostic_data_china['Target'].value_counts()"
      ],
      "execution_count": 80,
      "outputs": [
        {
          "output_type": "execute_result",
          "data": {
            "text/plain": [
              "IgM                     54\n",
              "IgG                     53\n",
              "IgG; IgM                28\n",
              "Not available           11\n",
              "Total Ig                10\n",
              "Fresh RNA extracted      5\n",
              "Nucleocapsid protein     1\n",
              "Name: Target, dtype: int64"
            ]
          },
          "metadata": {
            "tags": []
          },
          "execution_count": 80
        }
      ]
    },
    {
      "cell_type": "code",
      "metadata": {
        "id": "9RkYm7AJXwSv",
        "colab_type": "code",
        "colab": {
          "base_uri": "https://localhost:8080/",
          "height": 51
        },
        "outputId": "fd8e85a5-a322-4767-e150-8ada432722f3"
      },
      "source": [
        "covid_testing_data[covid_testing_data['Target'] == 'Frozen RNA']['Country'].value_counts()"
      ],
      "execution_count": 81,
      "outputs": [
        {
          "output_type": "execute_result",
          "data": {
            "text/plain": [
              "France    23\n",
              "Name: Country, dtype: int64"
            ]
          },
          "metadata": {
            "tags": []
          },
          "execution_count": 81
        }
      ]
    },
    {
      "cell_type": "code",
      "metadata": {
        "id": "bVxaopp_YHeC",
        "colab_type": "code",
        "colab": {
          "base_uri": "https://localhost:8080/",
          "height": 85
        },
        "outputId": "810b49c8-e180-4169-c86b-99e11c1bcccf"
      },
      "source": [
        "covid_testing_data[covid_testing_data['Target'] == 'Total Ig']['Country'].value_counts()"
      ],
      "execution_count": 82,
      "outputs": [
        {
          "output_type": "execute_result",
          "data": {
            "text/plain": [
              "China      10\n",
              "France      6\n",
              "Denmark     1\n",
              "Name: Country, dtype: int64"
            ]
          },
          "metadata": {
            "tags": []
          },
          "execution_count": 82
        }
      ]
    },
    {
      "cell_type": "code",
      "metadata": {
        "id": "uIbvhy53YW1O",
        "colab_type": "code",
        "colab": {
          "base_uri": "https://localhost:8080/",
          "height": 119
        },
        "outputId": "7843f700-8984-4ca3-d808-d3423f047092"
      },
      "source": [
        "covid_testing_data[covid_testing_data['Target'] == 'IgA']['Country'].value_counts()"
      ],
      "execution_count": 83,
      "outputs": [
        {
          "output_type": "execute_result",
          "data": {
            "text/plain": [
              "Australia    4\n",
              "Belgium      4\n",
              "Finland      1\n",
              "France       1\n",
              "Denmark      1\n",
              "Name: Country, dtype: int64"
            ]
          },
          "metadata": {
            "tags": []
          },
          "execution_count": 83
        }
      ]
    },
    {
      "cell_type": "code",
      "metadata": {
        "id": "5KZQViytYXKe",
        "colab_type": "code",
        "colab": {
          "base_uri": "https://localhost:8080/",
          "height": 68
        },
        "outputId": "248c630a-d89d-40c6-bbb9-aacf9eb4fae2"
      },
      "source": [
        "covid_testing_data[covid_testing_data['Target'] == 'Nucleocapsid protein']['Country'].value_counts()"
      ],
      "execution_count": 84,
      "outputs": [
        {
          "output_type": "execute_result",
          "data": {
            "text/plain": [
              "Chile    3\n",
              "China    1\n",
              "Name: Country, dtype: int64"
            ]
          },
          "metadata": {
            "tags": []
          },
          "execution_count": 84
        }
      ]
    },
    {
      "cell_type": "markdown",
      "metadata": {
        "id": "GxUrxp5OXgYv",
        "colab_type": "text"
      },
      "source": [
        "**Observation 13: < Need Help for 'Target' >**\n",
        "<br/><br/> Reference: https://www.nationaljewish.org/patients-visitors/patient-info/important-updates/coronavirus-information-and-resources/patient-care/covid-19-testing-antibody-diagnostic/the-difference-between-tests-for-covid-19"
      ]
    },
    {
      "cell_type": "code",
      "metadata": {
        "id": "AH1bWmeFCmXm",
        "colab_type": "code",
        "colab": {
          "base_uri": "https://localhost:8080/",
          "height": 51
        },
        "outputId": "f754d4b9-8566-4cde-a7ee-ce0b59cc5c4d"
      },
      "source": [
        "diagnostic_data['Antigen Used for Detection'].value_counts()"
      ],
      "execution_count": 85,
      "outputs": [
        {
          "output_type": "execute_result",
          "data": {
            "text/plain": [
              "Not available    152\n",
              "Name: Antigen Used for Detection, dtype: int64"
            ]
          },
          "metadata": {
            "tags": []
          },
          "execution_count": 85
        }
      ]
    },
    {
      "cell_type": "code",
      "metadata": {
        "id": "IcXt6EQvY3IK",
        "colab_type": "code",
        "colab": {
          "base_uri": "https://localhost:8080/",
          "height": 51
        },
        "outputId": "3d9a7d77-8e94-4029-ecf6-fda1439cb2f9"
      },
      "source": [
        "covid_testing_data['Antigen Used for Detection'].value_counts()"
      ],
      "execution_count": 86,
      "outputs": [
        {
          "output_type": "execute_result",
          "data": {
            "text/plain": [
              "Not available    620\n",
              "Name: Antigen Used for Detection, dtype: int64"
            ]
          },
          "metadata": {
            "tags": []
          },
          "execution_count": 86
        }
      ]
    },
    {
      "cell_type": "code",
      "metadata": {
        "id": "ojUM0QfQCmfa",
        "colab_type": "code",
        "colab": {
          "base_uri": "https://localhost:8080/",
          "height": 85
        },
        "outputId": "3be6fdce-1de4-4b15-94b2-9fd9686ea441"
      },
      "source": [
        "diagnostic_data['RNA Extraction Kit'].value_counts()"
      ],
      "execution_count": 87,
      "outputs": [
        {
          "output_type": "execute_result",
          "data": {
            "text/plain": [
              "Not available                    150\n",
              "Varied between sites               1\n",
              "Qiagen DSP Viral RNA Mini Kit      1\n",
              "Name: RNA Extraction Kit, dtype: int64"
            ]
          },
          "metadata": {
            "tags": []
          },
          "execution_count": 87
        }
      ]
    },
    {
      "cell_type": "code",
      "metadata": {
        "id": "hEFJVP0CY95N",
        "colab_type": "code",
        "colab": {
          "base_uri": "https://localhost:8080/",
          "height": 238
        },
        "outputId": "bf05b50b-c018-4f79-f9c7-350edb57c751"
      },
      "source": [
        "covid_testing_data['RNA Extraction Kit'].value_counts()"
      ],
      "execution_count": 88,
      "outputs": [
        {
          "output_type": "execute_result",
          "data": {
            "text/plain": [
              "Not available                                                                            556\n",
              "Extraction NucleoSpin Dx Virus (Réf. Macherey Nagel 740895.50)                            19\n",
              "Viral nucleic acid isolation kit from Jiangsu Bioperfectus Technologies Company, Ltd.     16\n",
              "Shuoshi, Shanghai, China                                                                   8\n",
              "MagnaPure 96                                                                               7\n",
              "Qiamp® viral RNA mini kit                                                                  5\n",
              "EMAG® bioMérieux                                                                           3\n",
              "PerkinElmer chemagic Prepito-D (NA Body Fluid kit; plasma protocol)                        2\n",
              "Varied between sites                                                                       1\n",
              "Magna Pure 96 using the Pathogen Universal protocol 200 v4.0                               1\n",
              "LifeCase RNA extraction                                                                    1\n",
              "Qiagen DSP Viral RNA Mini Kit                                                              1\n",
              "Name: RNA Extraction Kit, dtype: int64"
            ]
          },
          "metadata": {
            "tags": []
          },
          "execution_count": 88
        }
      ]
    },
    {
      "cell_type": "code",
      "metadata": {
        "id": "9GgSLAtfZDv9",
        "colab_type": "code",
        "colab": {
          "base_uri": "https://localhost:8080/",
          "height": 102
        },
        "outputId": "6b1d07a8-a10a-4dd9-b339-3d8995617824"
      },
      "source": [
        "diagnostic_data_china['RNA Extraction Kit'].value_counts()"
      ],
      "execution_count": 89,
      "outputs": [
        {
          "output_type": "execute_result",
          "data": {
            "text/plain": [
              "Not available                                                                            133\n",
              "Viral nucleic acid isolation kit from Jiangsu Bioperfectus Technologies Company, Ltd.     16\n",
              "Shuoshi, Shanghai, China                                                                   8\n",
              "Qiamp® viral RNA mini kit                                                                  5\n",
              "Name: RNA Extraction Kit, dtype: int64"
            ]
          },
          "metadata": {
            "tags": []
          },
          "execution_count": 89
        }
      ]
    },
    {
      "cell_type": "markdown",
      "metadata": {
        "id": "X2OEgQfDZULh",
        "colab_type": "text"
      },
      "source": [
        "**Observation 14: At this point, it is super important that the 'RNA Extraction Kit' Manufacturers worldwide work together and exchange information to help increase test accuracy and availability at global level.**"
      ]
    },
    {
      "cell_type": "code",
      "metadata": {
        "id": "WKDcYvPNCmmC",
        "colab_type": "code",
        "colab": {
          "base_uri": "https://localhost:8080/",
          "height": 153
        },
        "outputId": "24f1ce2e-79d2-42d9-f40b-7b1966ef2ea1"
      },
      "source": [
        "diagnostic_data['Estimated LoD'].value_counts()"
      ],
      "execution_count": 90,
      "outputs": [
        {
          "output_type": "execute_result",
          "data": {
            "text/plain": [
              "Not available    146\n",
              "33                 1\n",
              "10                 1\n",
              "1000               1\n",
              "20000              1\n",
              "0                  1\n",
              "100                1\n",
              "Name: Estimated LoD, dtype: int64"
            ]
          },
          "metadata": {
            "tags": []
          },
          "execution_count": 90
        }
      ]
    },
    {
      "cell_type": "code",
      "metadata": {
        "id": "PK2evnipZyqq",
        "colab_type": "code",
        "colab": {
          "base_uri": "https://localhost:8080/",
          "height": 68
        },
        "outputId": "6f4b0237-841a-4edd-91b3-562d030c1ad9"
      },
      "source": [
        "diagnostic_data_china['Estimated LoD'].value_counts()"
      ],
      "execution_count": 91,
      "outputs": [
        {
          "output_type": "execute_result",
          "data": {
            "text/plain": [
              "Not available    154\n",
              "10                 8\n",
              "Name: Estimated LoD, dtype: int64"
            ]
          },
          "metadata": {
            "tags": []
          },
          "execution_count": 91
        }
      ]
    },
    {
      "cell_type": "code",
      "metadata": {
        "id": "HKpqRfFWCmj8",
        "colab_type": "code",
        "colab": {
          "base_uri": "https://localhost:8080/",
          "height": 119
        },
        "outputId": "d26efdd8-e541-42d5-964c-8c3cb3db5f10"
      },
      "source": [
        "diagnostic_data['LoD Unit'].value_counts()"
      ],
      "execution_count": 92,
      "outputs": [
        {
          "output_type": "execute_result",
          "data": {
            "text/plain": [
              "Not available      146\n",
              "copy / mL            3\n",
              "copy / reaction      1\n",
              "copy / microL        1\n",
              "PFU/mL               1\n",
              "Name: LoD Unit, dtype: int64"
            ]
          },
          "metadata": {
            "tags": []
          },
          "execution_count": 92
        }
      ]
    },
    {
      "cell_type": "code",
      "metadata": {
        "id": "mtsFO3MQZ5Lq",
        "colab_type": "code",
        "colab": {
          "base_uri": "https://localhost:8080/",
          "height": 68
        },
        "outputId": "5e126fac-4f51-4e53-eeab-cb15d6336597"
      },
      "source": [
        "diagnostic_data_china['LoD Unit'].value_counts()"
      ],
      "execution_count": 93,
      "outputs": [
        {
          "output_type": "execute_result",
          "data": {
            "text/plain": [
              "Not available                154\n",
              "arbitrary units (AU) / mL      8\n",
              "Name: LoD Unit, dtype: int64"
            ]
          },
          "metadata": {
            "tags": []
          },
          "execution_count": 93
        }
      ]
    },
    {
      "cell_type": "code",
      "metadata": {
        "id": "27r1YRi6Cmcn",
        "colab_type": "code",
        "colab": {
          "base_uri": "https://localhost:8080/",
          "height": 85
        },
        "outputId": "febfacae-8506-4107-b8c0-676870005dc0"
      },
      "source": [
        "diagnostic_data['Higher Cut-off'].value_counts()"
      ],
      "execution_count": 94,
      "outputs": [
        {
          "output_type": "execute_result",
          "data": {
            "text/plain": [
              "Not available    144\n",
              "Ratio >=1.4        4\n",
              "Ratio >=1.1        4\n",
              "Name: Higher Cut-off, dtype: int64"
            ]
          },
          "metadata": {
            "tags": []
          },
          "execution_count": 94
        }
      ]
    },
    {
      "cell_type": "code",
      "metadata": {
        "id": "-0gDZ8ZlaB1u",
        "colab_type": "code",
        "colab": {
          "base_uri": "https://localhost:8080/",
          "height": 68
        },
        "outputId": "6490dfc4-e310-490f-bf1c-f066cbc89017"
      },
      "source": [
        "diagnostic_data_china['Higher Cut-off'].value_counts()"
      ],
      "execution_count": 95,
      "outputs": [
        {
          "output_type": "execute_result",
          "data": {
            "text/plain": [
              "Not available                       160\n",
              "As per manufactures instructions      2\n",
              "Name: Higher Cut-off, dtype: int64"
            ]
          },
          "metadata": {
            "tags": []
          },
          "execution_count": 95
        }
      ]
    },
    {
      "cell_type": "code",
      "metadata": {
        "id": "5i0vVG1GDqP6",
        "colab_type": "code",
        "colab": {
          "base_uri": "https://localhost:8080/",
          "height": 85
        },
        "outputId": "51b92fba-5104-4e87-885a-26cdd016b53a"
      },
      "source": [
        "diagnostic_data['Lower Cut-off'].value_counts()"
      ],
      "execution_count": 96,
      "outputs": [
        {
          "output_type": "execute_result",
          "data": {
            "text/plain": [
              "Not available    144\n",
              "Ratio <0.8         4\n",
              "Ratio <1.4         4\n",
              "Name: Lower Cut-off, dtype: int64"
            ]
          },
          "metadata": {
            "tags": []
          },
          "execution_count": 96
        }
      ]
    },
    {
      "cell_type": "code",
      "metadata": {
        "id": "JETmcMnlaI1E",
        "colab_type": "code",
        "colab": {
          "base_uri": "https://localhost:8080/",
          "height": 68
        },
        "outputId": "1589764a-5bfe-4032-9764-f0345575464e"
      },
      "source": [
        "diagnostic_data_china['Lower Cut-off'].value_counts()"
      ],
      "execution_count": 97,
      "outputs": [
        {
          "output_type": "execute_result",
          "data": {
            "text/plain": [
              "Not available                       160\n",
              "As per manufactures instructions      2\n",
              "Name: Lower Cut-off, dtype: int64"
            ]
          },
          "metadata": {
            "tags": []
          },
          "execution_count": 97
        }
      ]
    },
    {
      "cell_type": "code",
      "metadata": {
        "id": "PGSAVVGEDqYA",
        "colab_type": "code",
        "colab": {
          "base_uri": "https://localhost:8080/",
          "height": 85
        },
        "outputId": "b010130e-4472-4a27-9d10-12bce72fe0f2"
      },
      "source": [
        "diagnostic_data['Ct Value'].value_counts()"
      ],
      "execution_count": 98,
      "outputs": [
        {
          "output_type": "execute_result",
          "data": {
            "text/plain": [
              "Not available    149\n",
              "37                 2\n",
              "37.1               1\n",
              "Name: Ct Value, dtype: int64"
            ]
          },
          "metadata": {
            "tags": []
          },
          "execution_count": 98
        }
      ]
    },
    {
      "cell_type": "code",
      "metadata": {
        "id": "YSNeLWA4aRpt",
        "colab_type": "code",
        "colab": {
          "base_uri": "https://localhost:8080/",
          "height": 68
        },
        "outputId": "a8635247-a881-4de0-d27a-6e1b63b44276"
      },
      "source": [
        "diagnostic_data_china['Ct Value'].value_counts()"
      ],
      "execution_count": 99,
      "outputs": [
        {
          "output_type": "execute_result",
          "data": {
            "text/plain": [
              "Not available    158\n",
              "38                 4\n",
              "Name: Ct Value, dtype: int64"
            ]
          },
          "metadata": {
            "tags": []
          },
          "execution_count": 99
        }
      ]
    },
    {
      "cell_type": "code",
      "metadata": {
        "id": "AIjrePxmaVr4",
        "colab_type": "code",
        "colab": {
          "base_uri": "https://localhost:8080/",
          "height": 408
        },
        "outputId": "3514f5bf-1cbc-4ac7-cdfc-b0d1dbc65119"
      },
      "source": [
        "covid_testing_data['Ct Value'].value_counts()"
      ],
      "execution_count": 100,
      "outputs": [
        {
          "output_type": "execute_result",
          "data": {
            "text/plain": [
              "Not available    588\n",
              "38                 5\n",
              "35                 4\n",
              "33                 2\n",
              "37                 2\n",
              "36.7               2\n",
              "35.5               2\n",
              "27.7               1\n",
              "28.3               1\n",
              "35.7               1\n",
              "40.3               1\n",
              "44.8               1\n",
              "34.7               1\n",
              "28.6               1\n",
              "39.4               1\n",
              "38.1               1\n",
              "39                 1\n",
              "29.2               1\n",
              "26                 1\n",
              "37.4               1\n",
              "31.7               1\n",
              "37.1               1\n",
              "Name: Ct Value, dtype: int64"
            ]
          },
          "metadata": {
            "tags": []
          },
          "execution_count": 100
        }
      ]
    },
    {
      "cell_type": "code",
      "metadata": {
        "id": "pds4v6BvDqfm",
        "colab_type": "code",
        "colab": {
          "base_uri": "https://localhost:8080/",
          "height": 102
        },
        "outputId": "1e8089d1-1aa8-45f7-f089-8f86e22ba51c"
      },
      "source": [
        "diagnostic_data['Days of Sickness'].value_counts()"
      ],
      "execution_count": 101,
      "outputs": [
        {
          "output_type": "execute_result",
          "data": {
            "text/plain": [
              "Overall                 50\n",
              "Early (~1-7)            34\n",
              "Late (>14)              34\n",
              "Intermediate (~8-14)    34\n",
              "Name: Days of Sickness, dtype: int64"
            ]
          },
          "metadata": {
            "tags": []
          },
          "execution_count": 101
        }
      ]
    },
    {
      "cell_type": "code",
      "metadata": {
        "id": "mEnSl8bKatSP",
        "colab_type": "code",
        "colab": {
          "base_uri": "https://localhost:8080/",
          "height": 102
        },
        "outputId": "032c33b0-0430-415c-f184-1d1a1032c5d2"
      },
      "source": [
        "covid_testing_data['Days of Sickness'].value_counts()"
      ],
      "execution_count": 102,
      "outputs": [
        {
          "output_type": "execute_result",
          "data": {
            "text/plain": [
              "Overall                 283\n",
              "Late (>14)              118\n",
              "Intermediate (~8-14)    112\n",
              "Early (~1-7)            107\n",
              "Name: Days of Sickness, dtype: int64"
            ]
          },
          "metadata": {
            "tags": []
          },
          "execution_count": 102
        }
      ]
    },
    {
      "cell_type": "code",
      "metadata": {
        "id": "gC8xQlU9Dq11",
        "colab_type": "code",
        "colab": {
          "base_uri": "https://localhost:8080/",
          "height": 612
        },
        "outputId": "23c7162e-1413-4525-9452-2367c7dbca76"
      },
      "source": [
        "diagnostic_data['Total Positive'].value_counts()"
      ],
      "execution_count": 103,
      "outputs": [
        {
          "output_type": "execute_result",
          "data": {
            "text/plain": [
              "27               21\n",
              "32               21\n",
              "70               15\n",
              "31               10\n",
              "71                9\n",
              "130               9\n",
              "128               6\n",
              "129               6\n",
              "126               4\n",
              "25                4\n",
              "20                4\n",
              "69                3\n",
              "121               3\n",
              "66                3\n",
              "24                3\n",
              "Not available     3\n",
              "26                3\n",
              "13                3\n",
              "103               2\n",
              "48                2\n",
              "116               2\n",
              "23                2\n",
              "58                2\n",
              "10                2\n",
              "12                1\n",
              "220               1\n",
              "18                1\n",
              "125               1\n",
              "68                1\n",
              "115               1\n",
              "14                1\n",
              "11                1\n",
              "57                1\n",
              "17                1\n",
              "Name: Total Positive, dtype: int64"
            ]
          },
          "metadata": {
            "tags": []
          },
          "execution_count": 103
        }
      ]
    },
    {
      "cell_type": "code",
      "metadata": {
        "id": "1fa89nr2Dq6I",
        "colab_type": "code",
        "colab": {
          "base_uri": "https://localhost:8080/",
          "height": 357
        },
        "outputId": "c8ec770b-9eb3-458a-af47-d3d63429e603"
      },
      "source": [
        "diagnostic_data['Total Negative'].value_counts()"
      ],
      "execution_count": 104,
      "outputs": [
        {
          "output_type": "execute_result",
          "data": {
            "text/plain": [
              "108              60\n",
              "107              36\n",
              "99               12\n",
              "Not available    11\n",
              "104               8\n",
              "106               4\n",
              "105               4\n",
              "50                3\n",
              "13                2\n",
              "153               2\n",
              "78                2\n",
              "8                 1\n",
              "10                1\n",
              "61                1\n",
              "11                1\n",
              "29                1\n",
              "20                1\n",
              "1020              1\n",
              "261               1\n",
              "Name: Total Negative, dtype: int64"
            ]
          },
          "metadata": {
            "tags": []
          },
          "execution_count": 104
        }
      ]
    },
    {
      "cell_type": "code",
      "metadata": {
        "id": "bOrEsADCDqcf",
        "colab_type": "code",
        "colab": {
          "base_uri": "https://localhost:8080/",
          "height": 221
        },
        "outputId": "83f08f63-2a24-4fe4-daa1-3d4c55821f3a"
      },
      "source": [
        "diagnostic_data['True Positive'].value_counts()"
      ],
      "execution_count": 105,
      "outputs": [
        {
          "output_type": "execute_result",
          "data": {
            "text/plain": [
              "7     11\n",
              "24     8\n",
              "11     7\n",
              "23     6\n",
              "26     6\n",
              "      ..\n",
              "33     1\n",
              "98     1\n",
              "16     1\n",
              "49     1\n",
              "60     1\n",
              "Name: True Positive, Length: 64, dtype: int64"
            ]
          },
          "metadata": {
            "tags": []
          },
          "execution_count": 105
        }
      ]
    },
    {
      "cell_type": "code",
      "metadata": {
        "id": "DIao4VpbEiGA",
        "colab_type": "code",
        "colab": {
          "base_uri": "https://localhost:8080/",
          "height": 527
        },
        "outputId": "cd59a6c7-f70b-44e3-e81f-4c11e87dfd96"
      },
      "source": [
        "diagnostic_data['True Negative'].value_counts()"
      ],
      "execution_count": 106,
      "outputs": [
        {
          "output_type": "execute_result",
          "data": {
            "text/plain": [
              "105              24\n",
              "108              16\n",
              "Not available    13\n",
              "94               12\n",
              "104               8\n",
              "97                8\n",
              "107               8\n",
              "98                8\n",
              "91                8\n",
              "95                4\n",
              "96                4\n",
              "103               4\n",
              "106               4\n",
              "93                4\n",
              "102               4\n",
              "101               4\n",
              "100               4\n",
              "50                3\n",
              "13                2\n",
              "9                 1\n",
              "19                1\n",
              "145               1\n",
              "29                1\n",
              "152               1\n",
              "58                1\n",
              "250               1\n",
              "1019              1\n",
              "11                1\n",
              "8                 1\n",
              "Name: True Negative, dtype: int64"
            ]
          },
          "metadata": {
            "tags": []
          },
          "execution_count": 106
        }
      ]
    },
    {
      "cell_type": "code",
      "metadata": {
        "id": "YYD1h1oCEiK8",
        "colab_type": "code",
        "colab": {
          "base_uri": "https://localhost:8080/",
          "height": 221
        },
        "outputId": "1942b573-08e7-4eff-b2b2-742a4303b96b"
      },
      "source": [
        "diagnostic_data['Sensitivity'].value_counts()"
      ],
      "execution_count": 107,
      "outputs": [
        {
          "output_type": "execute_result",
          "data": {
            "text/plain": [
              "25.9    6\n",
              "77.4    5\n",
              "81.2    5\n",
              "100     5\n",
              "75.7    4\n",
              "       ..\n",
              "91.4    1\n",
              "35.3    1\n",
              "90      1\n",
              "56.6    1\n",
              "73.1    1\n",
              "Name: Sensitivity, Length: 98, dtype: int64"
            ]
          },
          "metadata": {
            "tags": []
          },
          "execution_count": 107
        }
      ]
    },
    {
      "cell_type": "code",
      "metadata": {
        "id": "YDTzCDq7b3yh",
        "colab_type": "code",
        "colab": {
          "base_uri": "https://localhost:8080/",
          "height": 221
        },
        "outputId": "8fbe4d23-f1ba-4c04-c621-800be68b521f"
      },
      "source": [
        "covid_testing_data['Sensitivity'].value_counts()"
      ],
      "execution_count": 108,
      "outputs": [
        {
          "output_type": "execute_result",
          "data": {
            "text/plain": [
              "100              47\n",
              "Not available    29\n",
              "80               13\n",
              "57.1             11\n",
              "87.5              9\n",
              "                 ..\n",
              "35.3              1\n",
              "68.9              1\n",
              "8                 1\n",
              "70.7              1\n",
              "99.5              1\n",
              "Name: Sensitivity, Length: 286, dtype: int64"
            ]
          },
          "metadata": {
            "tags": []
          },
          "execution_count": 108
        }
      ]
    },
    {
      "cell_type": "code",
      "metadata": {
        "id": "gBz673_ocAzv",
        "colab_type": "code",
        "colab": {
          "base_uri": "https://localhost:8080/",
          "height": 221
        },
        "outputId": "e0319f8c-0beb-4c81-f00c-1c606500c635"
      },
      "source": [
        "diagnostic_data_china['Sensitivity'].value_counts()"
      ],
      "execution_count": 109,
      "outputs": [
        {
          "output_type": "execute_result",
          "data": {
            "text/plain": [
              "Not available    5\n",
              "100              5\n",
              "96.8             3\n",
              "80               3\n",
              "83.3             3\n",
              "                ..\n",
              "10.3             1\n",
              "77.3             1\n",
              "28.7             1\n",
              "44.4             1\n",
              "37.9             1\n",
              "Name: Sensitivity, Length: 128, dtype: int64"
            ]
          },
          "metadata": {
            "tags": []
          },
          "execution_count": 109
        }
      ]
    },
    {
      "cell_type": "code",
      "metadata": {
        "id": "9CQqGuy8EiY6",
        "colab_type": "code",
        "colab": {
          "base_uri": "https://localhost:8080/",
          "height": 459
        },
        "outputId": "c13d51fc-557a-4c54-e961-f7fef857f7bb"
      },
      "source": [
        "diagnostic_data['Specificity'].value_counts()"
      ],
      "execution_count": 110,
      "outputs": [
        {
          "output_type": "execute_result",
          "data": {
            "text/plain": [
              "100              24\n",
              "98.1             20\n",
              "99.1             12\n",
              "96.3             12\n",
              "Not available    11\n",
              "97.2              8\n",
              "90.7              8\n",
              "84.3              8\n",
              "94.9              8\n",
              "89.8              4\n",
              "87.9              4\n",
              "89.7              4\n",
              "95.2              4\n",
              "91.6              4\n",
              "96                4\n",
              "86.9              4\n",
              "97.1              4\n",
              "92.3              2\n",
              "99.3              1\n",
              "90                1\n",
              "99.9              1\n",
              "94.8              1\n",
              "95                1\n",
              "95.8              1\n",
              "95.1              1\n",
              "Name: Specificity, dtype: int64"
            ]
          },
          "metadata": {
            "tags": []
          },
          "execution_count": 110
        }
      ]
    },
    {
      "cell_type": "code",
      "metadata": {
        "id": "xD4oGvgUcPPv",
        "colab_type": "code",
        "colab": {
          "base_uri": "https://localhost:8080/",
          "height": 221
        },
        "outputId": "d0bddff4-d3f6-4efa-cd76-de17f2b2b602"
      },
      "source": [
        "covid_testing_data['Specificity'].value_counts()"
      ],
      "execution_count": 111,
      "outputs": [
        {
          "output_type": "execute_result",
          "data": {
            "text/plain": [
              "Not available    194\n",
              "100              187\n",
              "92.3              27\n",
              "98.1              21\n",
              "96.3              13\n",
              "                ... \n",
              "15                 1\n",
              "44.4               1\n",
              "89.2               1\n",
              "92.7               1\n",
              "76.5               1\n",
              "Name: Specificity, Length: 86, dtype: int64"
            ]
          },
          "metadata": {
            "tags": []
          },
          "execution_count": 111
        }
      ]
    },
    {
      "cell_type": "code",
      "metadata": {
        "id": "8ZgTHEdWcVoV",
        "colab_type": "code",
        "colab": {
          "base_uri": "https://localhost:8080/",
          "height": 578
        },
        "outputId": "059a7a01-1ede-49fa-91d5-355052b11ff0"
      },
      "source": [
        "diagnostic_data_china['Specificity'].value_counts()"
      ],
      "execution_count": 112,
      "outputs": [
        {
          "output_type": "execute_result",
          "data": {
            "text/plain": [
              "Not available    86\n",
              "100              41\n",
              "99.2              2\n",
              "99                2\n",
              "99.3              2\n",
              "95                2\n",
              "78.1              2\n",
              "98.8              1\n",
              "71.4              1\n",
              "0                 1\n",
              "99.8              1\n",
              "98.1              1\n",
              "22.2              1\n",
              "98.3              1\n",
              "92.2              1\n",
              "15                1\n",
              "66.7              1\n",
              "98.6              1\n",
              "36.4              1\n",
              "63.6              1\n",
              "95.2              1\n",
              "59.1              1\n",
              "96.7              1\n",
              "33.3              1\n",
              "96.2              1\n",
              "98.5              1\n",
              "57.1              1\n",
              "99.1              1\n",
              "97.5              1\n",
              "90.6              1\n",
              "44.4              1\n",
              "99.5              1\n",
              "Name: Specificity, dtype: int64"
            ]
          },
          "metadata": {
            "tags": []
          },
          "execution_count": 112
        }
      ]
    },
    {
      "cell_type": "code",
      "metadata": {
        "id": "93eJcKchEidV",
        "colab_type": "code",
        "colab": {
          "base_uri": "https://localhost:8080/",
          "height": 187
        },
        "outputId": "091c737f-194b-45f1-95f8-21cb4418fc07"
      },
      "source": [
        "diagnostic_data['Link to Publication'].value_counts()"
      ],
      "execution_count": 113,
      "outputs": [
        {
          "output_type": "execute_result",
          "data": {
            "text/plain": [
              "https://covidtestingproject.org/                                                          124\n",
              "https://academic.oup.com/clinchem/advance-article/doi/10.1093/clinchem/hvaa120/5836557      8\n",
              "https://jcm.asm.org/content/jcm/early/2020/04/27/JCM.00821-20.full.pdf                      8\n",
              "https://www.medrxiv.org/content/10.1101/2020.04.27.20082362v1.full.pdf                      4\n",
              "https://jcm.asm.org/content/jcm/early/2020/04/23/JCM.00783-20.full.pdf                      3\n",
              "https://www.medrxiv.org/content/10.1101/2020.05.10.20097535v1.full.pdf                      2\n",
              "https://jcm.asm.org/content/jcm/early/2020/04/30/JCM.00926-20.full.pdf                      1\n",
              "https://www.medrxiv.org/content/10.1101/2020.03.06.20032334v2.full.pdf                      1\n",
              "Not available                                                                               1\n",
              "Name: Link to Publication, dtype: int64"
            ]
          },
          "metadata": {
            "tags": []
          },
          "execution_count": 113
        }
      ]
    },
    {
      "cell_type": "code",
      "metadata": {
        "id": "pnyrd_SXEilv",
        "colab_type": "code",
        "colab": {
          "base_uri": "https://localhost:8080/",
          "height": 170
        },
        "outputId": "8f97c717-3042-46b0-822a-97dc697f42b0"
      },
      "source": [
        "diagnostic_data['DOI'].value_counts()"
      ],
      "execution_count": 114,
      "outputs": [
        {
          "output_type": "execute_result",
          "data": {
            "text/plain": [
              "Not available                  125\n",
              "10.1128/JCM.00821-20             8\n",
              "10.1093/clinchem/hvaa120         8\n",
              "10.1101/2020.04.27.20082362      4\n",
              "10.1128/JCM.00783-20             3\n",
              "10.1101/2020.05.10.20097535      2\n",
              "10.1128/JCM.00926-20             1\n",
              "10.1101/2020.03.06.20032334      1\n",
              "Name: DOI, dtype: int64"
            ]
          },
          "metadata": {
            "tags": []
          },
          "execution_count": 114
        }
      ]
    },
    {
      "cell_type": "markdown",
      "metadata": {
        "id": "2TKbBJq9XXoX",
        "colab_type": "text"
      },
      "source": [
        "# Conclusion"
      ]
    }
  ]
}